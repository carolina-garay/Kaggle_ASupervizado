{
  "cells": [
    {
      "cell_type": "markdown",
      "metadata": {
        "id": "view-in-github",
        "colab_type": "text"
      },
      "source": [
        "<a href=\"https://colab.research.google.com/github/carolina-garay/Kaggle_ASupervizado/blob/main/Garay_Kaggle_Competition.ipynb\" target=\"_parent\"><img src=\"https://colab.research.google.com/assets/colab-badge.svg\" alt=\"Open In Colab\"/></a>"
      ]
    },
    {
      "cell_type": "markdown",
      "metadata": {
        "id": "0H6GDZhKi2P4"
      },
      "source": [
        "# DiploDatos Kaggle Competition\n",
        "\n",
        "**Grupo 32**\n",
        "\n",
        "Integrantes:\n",
        "\n",
        "* Garay, Carolina del Valle\n",
        "* Ormaechea, Sebastián Gabriel\n",
        "* Ramos, Pablo Nicolás\n"
      ]
    },
    {
      "cell_type": "markdown",
      "source": [
        "En esta competencia, el objetivo es predecir si los pasajeros del conjunto de datos \"test.csv\" fueron transportados a una dimensión alternativa durante la colisión de la nave espacial Titanic con una anomalía del espacio-tiempo. Para ayudarlos a hacer estas predicciones, se les proporciona el conjunto de datos de los registros personales recuperados de la computadora dañada de la nave"
      ],
      "metadata": {
        "id": "x-tqoTlxeHNG"
      }
    },
    {
      "cell_type": "markdown",
      "source": [
        "train.csv Datos sobre gran parte de los pasajeros, a ser usados para entrenamiento.\n",
        "\n",
        "-PassengerId - Un identificador para cada pasajero.\n",
        "\n",
        "-HomePlanet - El planeta del cual partió el pasajero. Típicamente su planeta de residencia permanente.\n",
        "\n",
        "-CryoSleep - Indica si el pasajero fue electo a ser puesto en suspensión animada durante la duración del viaje. Los pasajeros en CryoSleep están confinados a sus cabinas.\n",
        "\n",
        "-Cabin - El número de cabina en donde el pasajero se está quedando. Toma la forma piso/número/lado, donde el lado puede ser P por Port oS por Starboard.\n",
        "\n",
        "-Destination - El destino en donde va a desembarcar el pasajero.\n",
        "\n",
        "-Age - La edad del pasajero.\n",
        "\n",
        "-VIP - Si el pasajero pagó por servicios VIP durante el viaje.\n",
        "\n",
        "-RoomService, FoodCourt, ShoppingMall, Spa, VRDeck - Cantidad que el pasajero ha gastado en cada una de las comodidades de lujo del Spaceship Titanic.\n",
        "\n",
        "-Name - El nombre y apellido de cada pasajero.\n",
        "\n",
        "**-Transported - Si el pasajero fue transportado a otra dimensión o no. Esta es la columna target, la columna a predecir.**\n",
        "\n",
        "test.csv Records personales de los restantes pasajeros, a ser utilizados como datos nuevos desconocidos. Tu objetivo es predecir si cada pasajero de este conjunto fue transportado a otra dimensión o no (variable \"Transported\").\n",
        "\n",
        "Deben subir el siguiente archivo: sample_submission.csv El archivo que deben entregar con las predicciones del conjunto test.csv . Debe tener dos columnas, una con el \"PassengerId\" y otra con el valor de la predicción en la columna \"Transported\" (0 si no fue transportado y 1 si fue transportado).\n",
        "\n",
        "En el github de la materia hay un ejemplo de baseline para esta competencia."
      ],
      "metadata": {
        "id": "n5IQ0pYCeWYw"
      }
    },
    {
      "cell_type": "markdown",
      "metadata": {
        "id": "ahWz2A50i2P7"
      },
      "source": [
        "Presentamos un código creado como ejemplo de base para la competición.\n",
        "\n",
        "Deben:\n",
        "\n",
        "- Explorar los datos y aprender de ellos.\n",
        "- Probar diferentes modelos y ver cuáles ajustan mejor dado los datos.\n",
        "- **Obtener una accuracy mejor que la que se presenta en este ejemplo.**\n",
        "- Tratar de obtener la accuracy más alta posible!\n",
        "- Discutir la elección de modelo.\n",
        "\n",
        "El análisis exploratorio y el preprocesamiento de los datos queda a libertad de cada grupo y no deben quedarse con este simple ejemplo."
      ]
    },
    {
      "cell_type": "code",
      "execution_count": 75,
      "metadata": {
        "id": "3AKav7Yki2P9"
      },
      "outputs": [],
      "source": [
        "import pandas as pd\n",
        "import numpy as np\n",
        "import matplotlib.pyplot as plt\n",
        "\n",
        "from sklearn.preprocessing import StandardScaler, LabelEncoder\n",
        "from sklearn.impute import SimpleImputer\n",
        "from sklearn.model_selection import train_test_split, GridSearchCV, StratifiedKFold\n",
        "from sklearn.metrics import accuracy_score, ConfusionMatrixDisplay, classification_report\n",
        "\n",
        "from sklearn.tree import DecisionTreeClassifier"
      ]
    },
    {
      "cell_type": "code",
      "source": [
        "# Descarga de base de datos\n",
        "!gdown https://drive.google.com/file/d/1Vclyh1LeOGSDe7Mxi-StHiGXgE5pdSkL/view?usp=sharing --fuzzy\n",
        "\n",
        "!gdown https://drive.google.com/file/d/1YoAh1JANoRAKQr5zIFDeIAPY4fWbF1QW/view?usp=sharing --fuzzy"
      ],
      "metadata": {
        "colab": {
          "base_uri": "https://localhost:8080/"
        },
        "id": "YCujFvgml2zk",
        "outputId": "3d22efdb-e58e-4ee8-cdb1-9a12b2a278d8"
      },
      "execution_count": 76,
      "outputs": [
        {
          "output_type": "stream",
          "name": "stdout",
          "text": [
            "Downloading...\n",
            "From: https://drive.google.com/uc?id=1Vclyh1LeOGSDe7Mxi-StHiGXgE5pdSkL\n",
            "To: /content/train.csv\n",
            "100% 681k/681k [00:00<00:00, 111MB/s]\n",
            "Downloading...\n",
            "From: https://drive.google.com/uc?id=1YoAh1JANoRAKQr5zIFDeIAPY4fWbF1QW\n",
            "To: /content/test.csv\n",
            "100% 74.2k/74.2k [00:00<00:00, 64.0MB/s]\n"
          ]
        }
      ]
    },
    {
      "cell_type": "code",
      "source": [
        "df = pd.read_csv('/content/train.csv')"
      ],
      "metadata": {
        "id": "LNTgcrw-mmLx"
      },
      "execution_count": 77,
      "outputs": []
    },
    {
      "cell_type": "code",
      "source": [
        "print(df.shape)\n",
        "print(df.describe())"
      ],
      "metadata": {
        "colab": {
          "base_uri": "https://localhost:8080/"
        },
        "id": "eUAs4Ca0myeV",
        "outputId": "1b91020a-9f75-47cf-8cb3-7c17218e8891"
      },
      "execution_count": 78,
      "outputs": [
        {
          "output_type": "stream",
          "name": "stdout",
          "text": [
            "(7823, 14)\n",
            "       PassengerId          Age   RoomService     FoodCourt  ShoppingMall  \\\n",
            "count  7823.000000  7661.000000   7669.000000   7668.000000   7635.000000   \n",
            "mean   4345.691039    28.879389    226.078237    455.643062    172.600393   \n",
            "std    2504.576803    14.461548    679.180148   1621.290107    597.923749   \n",
            "min       0.000000     0.000000      0.000000      0.000000      0.000000   \n",
            "25%    2182.500000    19.000000      0.000000      0.000000      0.000000   \n",
            "50%    4345.000000    27.000000      0.000000      0.000000      0.000000   \n",
            "75%    6515.500000    38.000000     44.000000     69.000000     28.000000   \n",
            "max    8692.000000    79.000000  14327.000000  29813.000000  23492.000000   \n",
            "\n",
            "                Spa        VRDeck  Transported  \n",
            "count   7665.000000   7654.000000  7823.000000  \n",
            "mean     305.023222    295.476744     0.506711  \n",
            "std     1133.423579   1093.485752     0.499987  \n",
            "min        0.000000      0.000000     0.000000  \n",
            "25%        0.000000      0.000000     0.000000  \n",
            "50%        0.000000      0.000000     1.000000  \n",
            "75%       58.000000     46.000000     1.000000  \n",
            "max    22408.000000  24133.000000     1.000000  \n"
          ]
        }
      ]
    },
    {
      "cell_type": "code",
      "source": [
        "print(df.value_counts(df['Transported'], sort = True))"
      ],
      "metadata": {
        "colab": {
          "base_uri": "https://localhost:8080/"
        },
        "id": "Ju2xd9nufiE_",
        "outputId": "88b58e06-f5c1-41a1-9c3b-c0e58c6658bb"
      },
      "execution_count": 79,
      "outputs": [
        {
          "output_type": "stream",
          "name": "stdout",
          "text": [
            "Transported\n",
            "1    3964\n",
            "0    3859\n",
            "dtype: int64\n"
          ]
        }
      ]
    },
    {
      "cell_type": "markdown",
      "source": [
        "Observamos que no hay desbalance de datos"
      ],
      "metadata": {
        "id": "ss_hJFCWfqg1"
      }
    },
    {
      "cell_type": "code",
      "source": [
        "#Imprimimos tipo de dato de cada columna\n",
        "df.dtypes"
      ],
      "metadata": {
        "colab": {
          "base_uri": "https://localhost:8080/"
        },
        "id": "8QAaC0Ztpba5",
        "outputId": "bcec0155-d253-4897-c2af-18944e408e3f"
      },
      "execution_count": 80,
      "outputs": [
        {
          "output_type": "execute_result",
          "data": {
            "text/plain": [
              "PassengerId       int64\n",
              "HomePlanet       object\n",
              "CryoSleep        object\n",
              "Cabin            object\n",
              "Destination      object\n",
              "Age             float64\n",
              "VIP              object\n",
              "RoomService     float64\n",
              "FoodCourt       float64\n",
              "ShoppingMall    float64\n",
              "Spa             float64\n",
              "VRDeck          float64\n",
              "Name             object\n",
              "Transported       int64\n",
              "dtype: object"
            ]
          },
          "metadata": {},
          "execution_count": 80
        }
      ]
    },
    {
      "cell_type": "code",
      "source": [
        "#Imprimimos columnas que registran valores nulos\n",
        "#True = contiene valor nulo\n",
        "df.isnull().any(axis=0)"
      ],
      "metadata": {
        "colab": {
          "base_uri": "https://localhost:8080/"
        },
        "id": "Zx9i3x1mowW2",
        "outputId": "8fe590b6-9e83-46b1-a891-0337c7276619"
      },
      "execution_count": 81,
      "outputs": [
        {
          "output_type": "execute_result",
          "data": {
            "text/plain": [
              "PassengerId     False\n",
              "HomePlanet       True\n",
              "CryoSleep        True\n",
              "Cabin            True\n",
              "Destination      True\n",
              "Age              True\n",
              "VIP              True\n",
              "RoomService      True\n",
              "FoodCourt        True\n",
              "ShoppingMall     True\n",
              "Spa              True\n",
              "VRDeck           True\n",
              "Name             True\n",
              "Transported     False\n",
              "dtype: bool"
            ]
          },
          "metadata": {},
          "execution_count": 81
        }
      ]
    },
    {
      "cell_type": "code",
      "source": [
        "#Imprimimos nombre de cada columna\n",
        "df.columns"
      ],
      "metadata": {
        "colab": {
          "base_uri": "https://localhost:8080/"
        },
        "id": "17DpDVo_rIDz",
        "outputId": "445e705f-df47-4d51-b810-491c226e6f46"
      },
      "execution_count": 82,
      "outputs": [
        {
          "output_type": "execute_result",
          "data": {
            "text/plain": [
              "Index(['PassengerId', 'HomePlanet', 'CryoSleep', 'Cabin', 'Destination', 'Age',\n",
              "       'VIP', 'RoomService', 'FoodCourt', 'ShoppingMall', 'Spa', 'VRDeck',\n",
              "       'Name', 'Transported'],\n",
              "      dtype='object')"
            ]
          },
          "metadata": {},
          "execution_count": 82
        }
      ]
    },
    {
      "cell_type": "code",
      "source": [
        "#Separamos por variables categóricas y numéricas\n",
        "categorical_cols_i = ['HomePlanet', 'CryoSleep', 'Cabin', 'Destination',\n",
        "       'VIP','Name']\n",
        "numerical_cols_i = ['PassengerId', 'Age', 'RoomService', 'FoodCourt', \n",
        "                    'ShoppingMall', 'Spa', 'VRDeck', 'Transported']"
      ],
      "metadata": {
        "id": "zAmryOWupXZk"
      },
      "execution_count": 83,
      "outputs": []
    },
    {
      "cell_type": "code",
      "source": [
        "#Imprimimos cantidad de categorías que toma cada variable categórica\n",
        "df[categorical_cols_i].nunique()"
      ],
      "metadata": {
        "colab": {
          "base_uri": "https://localhost:8080/"
        },
        "id": "8PGwQ0pWtZBw",
        "outputId": "70e82d44-88cb-406b-9792-5355c9407450"
      },
      "execution_count": 84,
      "outputs": [
        {
          "output_type": "execute_result",
          "data": {
            "text/plain": [
              "HomePlanet        3\n",
              "CryoSleep         2\n",
              "Cabin          6009\n",
              "Destination       3\n",
              "VIP               2\n",
              "Name           7623\n",
              "dtype: int64"
            ]
          },
          "metadata": {},
          "execution_count": 84
        }
      ]
    },
    {
      "cell_type": "markdown",
      "source": [
        "Imputamos datos faltantes"
      ],
      "metadata": {
        "id": "QNwI7dKt4_kU"
      }
    },
    {
      "cell_type": "code",
      "source": [
        "from sklearn.experimental import enable_iterative_imputer\n",
        "from sklearn.neighbors import KNeighborsRegressor\n",
        "from sklearn.impute import IterativeImputer\n",
        "\n",
        "imputer_cols = [\"Age\", \"FoodCourt\", \"ShoppingMall\", \"Spa\", \"VRDeck\" ,\"RoomService\"]\n",
        "kn_imputer = IterativeImputer(random_state=0, estimator=KNeighborsRegressor())\n",
        "df[imputer_cols] = kn_imputer.fit_transform(df[imputer_cols])\n",
        "y = df.Transported\n",
        "X = df.drop('Transported',axis=1)\n",
        "X"
      ],
      "metadata": {
        "colab": {
          "base_uri": "https://localhost:8080/",
          "height": 680
        },
        "id": "gPfVRAId2QX7",
        "outputId": "3e011431-d4e8-448a-a8f8-46a4be470f94"
      },
      "execution_count": 85,
      "outputs": [
        {
          "output_type": "stream",
          "name": "stderr",
          "text": [
            "/usr/local/lib/python3.7/dist-packages/sklearn/impute/_iterative.py:701: ConvergenceWarning: [IterativeImputer] Early stopping criterion not reached.\n",
            "  ConvergenceWarning,\n"
          ]
        },
        {
          "output_type": "execute_result",
          "data": {
            "text/plain": [
              "      PassengerId HomePlanet CryoSleep     Cabin  Destination   Age    VIP  \\\n",
              "0            3430     Europa     False   C/123/P  TRAPPIST-1e  57.0  False   \n",
              "1             669       Mars      True   F/126/S          NaN  18.0  False   \n",
              "2            8430     Europa      True   B/343/S  TRAPPIST-1e  33.0    NaN   \n",
              "3            6463      Earth     False  F/1420/P  TRAPPIST-1e  43.0  False   \n",
              "4              85      Earth     False     G/9/P  TRAPPIST-1e  19.0  False   \n",
              "...           ...        ...       ...       ...          ...   ...    ...   \n",
              "7818         6528       Mars     False  F/1319/S  TRAPPIST-1e  12.0    NaN   \n",
              "7819         2693      Earth     False   G/459/S  TRAPPIST-1e  44.0  False   \n",
              "7820         8076       Mars      True  F/1772/P  TRAPPIST-1e  55.0  False   \n",
              "7821         3829      Earth     False   E/253/P  TRAPPIST-1e  15.0  False   \n",
              "7822         7624     Europa      True   B/270/P  55 Cancri e  45.0  False   \n",
              "\n",
              "      RoomService  FoodCourt  ShoppingMall    Spa  VRDeck               Name  \n",
              "0             0.0     3859.0          13.0  195.0  3874.0     Azhah Tronsive  \n",
              "1             0.0        0.0           0.0    0.0     0.0         Roswal Sha  \n",
              "2             0.0        0.0           0.0    0.0     0.0  Shaiam Tinganking  \n",
              "3           142.0     1208.0           0.0    0.0   204.0     Landa Grifford  \n",
              "4             0.0        0.0         670.0    1.0    34.0     Gracy Dunnisey  \n",
              "...           ...        ...           ...    ...     ...                ...  \n",
              "7818          0.0        0.0           0.0    0.0     0.0        Risps Hacle  \n",
              "7819          0.0        0.0         744.0   62.0     3.0      Gabrie Reenez  \n",
              "7820          0.0        0.0           0.0    0.0     0.0       Panzel Ruity  \n",
              "7821          0.0      840.0         123.0    0.0    20.0    Belly Weavesend  \n",
              "7822          0.0        0.0           0.0    0.0     0.0  Graston Donotaked  \n",
              "\n",
              "[7823 rows x 13 columns]"
            ],
            "text/html": [
              "\n",
              "  <div id=\"df-0518be7e-9d3f-4933-bab8-ad8f6b9e6dd9\">\n",
              "    <div class=\"colab-df-container\">\n",
              "      <div>\n",
              "<style scoped>\n",
              "    .dataframe tbody tr th:only-of-type {\n",
              "        vertical-align: middle;\n",
              "    }\n",
              "\n",
              "    .dataframe tbody tr th {\n",
              "        vertical-align: top;\n",
              "    }\n",
              "\n",
              "    .dataframe thead th {\n",
              "        text-align: right;\n",
              "    }\n",
              "</style>\n",
              "<table border=\"1\" class=\"dataframe\">\n",
              "  <thead>\n",
              "    <tr style=\"text-align: right;\">\n",
              "      <th></th>\n",
              "      <th>PassengerId</th>\n",
              "      <th>HomePlanet</th>\n",
              "      <th>CryoSleep</th>\n",
              "      <th>Cabin</th>\n",
              "      <th>Destination</th>\n",
              "      <th>Age</th>\n",
              "      <th>VIP</th>\n",
              "      <th>RoomService</th>\n",
              "      <th>FoodCourt</th>\n",
              "      <th>ShoppingMall</th>\n",
              "      <th>Spa</th>\n",
              "      <th>VRDeck</th>\n",
              "      <th>Name</th>\n",
              "    </tr>\n",
              "  </thead>\n",
              "  <tbody>\n",
              "    <tr>\n",
              "      <th>0</th>\n",
              "      <td>3430</td>\n",
              "      <td>Europa</td>\n",
              "      <td>False</td>\n",
              "      <td>C/123/P</td>\n",
              "      <td>TRAPPIST-1e</td>\n",
              "      <td>57.0</td>\n",
              "      <td>False</td>\n",
              "      <td>0.0</td>\n",
              "      <td>3859.0</td>\n",
              "      <td>13.0</td>\n",
              "      <td>195.0</td>\n",
              "      <td>3874.0</td>\n",
              "      <td>Azhah Tronsive</td>\n",
              "    </tr>\n",
              "    <tr>\n",
              "      <th>1</th>\n",
              "      <td>669</td>\n",
              "      <td>Mars</td>\n",
              "      <td>True</td>\n",
              "      <td>F/126/S</td>\n",
              "      <td>NaN</td>\n",
              "      <td>18.0</td>\n",
              "      <td>False</td>\n",
              "      <td>0.0</td>\n",
              "      <td>0.0</td>\n",
              "      <td>0.0</td>\n",
              "      <td>0.0</td>\n",
              "      <td>0.0</td>\n",
              "      <td>Roswal Sha</td>\n",
              "    </tr>\n",
              "    <tr>\n",
              "      <th>2</th>\n",
              "      <td>8430</td>\n",
              "      <td>Europa</td>\n",
              "      <td>True</td>\n",
              "      <td>B/343/S</td>\n",
              "      <td>TRAPPIST-1e</td>\n",
              "      <td>33.0</td>\n",
              "      <td>NaN</td>\n",
              "      <td>0.0</td>\n",
              "      <td>0.0</td>\n",
              "      <td>0.0</td>\n",
              "      <td>0.0</td>\n",
              "      <td>0.0</td>\n",
              "      <td>Shaiam Tinganking</td>\n",
              "    </tr>\n",
              "    <tr>\n",
              "      <th>3</th>\n",
              "      <td>6463</td>\n",
              "      <td>Earth</td>\n",
              "      <td>False</td>\n",
              "      <td>F/1420/P</td>\n",
              "      <td>TRAPPIST-1e</td>\n",
              "      <td>43.0</td>\n",
              "      <td>False</td>\n",
              "      <td>142.0</td>\n",
              "      <td>1208.0</td>\n",
              "      <td>0.0</td>\n",
              "      <td>0.0</td>\n",
              "      <td>204.0</td>\n",
              "      <td>Landa Grifford</td>\n",
              "    </tr>\n",
              "    <tr>\n",
              "      <th>4</th>\n",
              "      <td>85</td>\n",
              "      <td>Earth</td>\n",
              "      <td>False</td>\n",
              "      <td>G/9/P</td>\n",
              "      <td>TRAPPIST-1e</td>\n",
              "      <td>19.0</td>\n",
              "      <td>False</td>\n",
              "      <td>0.0</td>\n",
              "      <td>0.0</td>\n",
              "      <td>670.0</td>\n",
              "      <td>1.0</td>\n",
              "      <td>34.0</td>\n",
              "      <td>Gracy Dunnisey</td>\n",
              "    </tr>\n",
              "    <tr>\n",
              "      <th>...</th>\n",
              "      <td>...</td>\n",
              "      <td>...</td>\n",
              "      <td>...</td>\n",
              "      <td>...</td>\n",
              "      <td>...</td>\n",
              "      <td>...</td>\n",
              "      <td>...</td>\n",
              "      <td>...</td>\n",
              "      <td>...</td>\n",
              "      <td>...</td>\n",
              "      <td>...</td>\n",
              "      <td>...</td>\n",
              "      <td>...</td>\n",
              "    </tr>\n",
              "    <tr>\n",
              "      <th>7818</th>\n",
              "      <td>6528</td>\n",
              "      <td>Mars</td>\n",
              "      <td>False</td>\n",
              "      <td>F/1319/S</td>\n",
              "      <td>TRAPPIST-1e</td>\n",
              "      <td>12.0</td>\n",
              "      <td>NaN</td>\n",
              "      <td>0.0</td>\n",
              "      <td>0.0</td>\n",
              "      <td>0.0</td>\n",
              "      <td>0.0</td>\n",
              "      <td>0.0</td>\n",
              "      <td>Risps Hacle</td>\n",
              "    </tr>\n",
              "    <tr>\n",
              "      <th>7819</th>\n",
              "      <td>2693</td>\n",
              "      <td>Earth</td>\n",
              "      <td>False</td>\n",
              "      <td>G/459/S</td>\n",
              "      <td>TRAPPIST-1e</td>\n",
              "      <td>44.0</td>\n",
              "      <td>False</td>\n",
              "      <td>0.0</td>\n",
              "      <td>0.0</td>\n",
              "      <td>744.0</td>\n",
              "      <td>62.0</td>\n",
              "      <td>3.0</td>\n",
              "      <td>Gabrie Reenez</td>\n",
              "    </tr>\n",
              "    <tr>\n",
              "      <th>7820</th>\n",
              "      <td>8076</td>\n",
              "      <td>Mars</td>\n",
              "      <td>True</td>\n",
              "      <td>F/1772/P</td>\n",
              "      <td>TRAPPIST-1e</td>\n",
              "      <td>55.0</td>\n",
              "      <td>False</td>\n",
              "      <td>0.0</td>\n",
              "      <td>0.0</td>\n",
              "      <td>0.0</td>\n",
              "      <td>0.0</td>\n",
              "      <td>0.0</td>\n",
              "      <td>Panzel Ruity</td>\n",
              "    </tr>\n",
              "    <tr>\n",
              "      <th>7821</th>\n",
              "      <td>3829</td>\n",
              "      <td>Earth</td>\n",
              "      <td>False</td>\n",
              "      <td>E/253/P</td>\n",
              "      <td>TRAPPIST-1e</td>\n",
              "      <td>15.0</td>\n",
              "      <td>False</td>\n",
              "      <td>0.0</td>\n",
              "      <td>840.0</td>\n",
              "      <td>123.0</td>\n",
              "      <td>0.0</td>\n",
              "      <td>20.0</td>\n",
              "      <td>Belly Weavesend</td>\n",
              "    </tr>\n",
              "    <tr>\n",
              "      <th>7822</th>\n",
              "      <td>7624</td>\n",
              "      <td>Europa</td>\n",
              "      <td>True</td>\n",
              "      <td>B/270/P</td>\n",
              "      <td>55 Cancri e</td>\n",
              "      <td>45.0</td>\n",
              "      <td>False</td>\n",
              "      <td>0.0</td>\n",
              "      <td>0.0</td>\n",
              "      <td>0.0</td>\n",
              "      <td>0.0</td>\n",
              "      <td>0.0</td>\n",
              "      <td>Graston Donotaked</td>\n",
              "    </tr>\n",
              "  </tbody>\n",
              "</table>\n",
              "<p>7823 rows × 13 columns</p>\n",
              "</div>\n",
              "      <button class=\"colab-df-convert\" onclick=\"convertToInteractive('df-0518be7e-9d3f-4933-bab8-ad8f6b9e6dd9')\"\n",
              "              title=\"Convert this dataframe to an interactive table.\"\n",
              "              style=\"display:none;\">\n",
              "        \n",
              "  <svg xmlns=\"http://www.w3.org/2000/svg\" height=\"24px\"viewBox=\"0 0 24 24\"\n",
              "       width=\"24px\">\n",
              "    <path d=\"M0 0h24v24H0V0z\" fill=\"none\"/>\n",
              "    <path d=\"M18.56 5.44l.94 2.06.94-2.06 2.06-.94-2.06-.94-.94-2.06-.94 2.06-2.06.94zm-11 1L8.5 8.5l.94-2.06 2.06-.94-2.06-.94L8.5 2.5l-.94 2.06-2.06.94zm10 10l.94 2.06.94-2.06 2.06-.94-2.06-.94-.94-2.06-.94 2.06-2.06.94z\"/><path d=\"M17.41 7.96l-1.37-1.37c-.4-.4-.92-.59-1.43-.59-.52 0-1.04.2-1.43.59L10.3 9.45l-7.72 7.72c-.78.78-.78 2.05 0 2.83L4 21.41c.39.39.9.59 1.41.59.51 0 1.02-.2 1.41-.59l7.78-7.78 2.81-2.81c.8-.78.8-2.07 0-2.86zM5.41 20L4 18.59l7.72-7.72 1.47 1.35L5.41 20z\"/>\n",
              "  </svg>\n",
              "      </button>\n",
              "      \n",
              "  <style>\n",
              "    .colab-df-container {\n",
              "      display:flex;\n",
              "      flex-wrap:wrap;\n",
              "      gap: 12px;\n",
              "    }\n",
              "\n",
              "    .colab-df-convert {\n",
              "      background-color: #E8F0FE;\n",
              "      border: none;\n",
              "      border-radius: 50%;\n",
              "      cursor: pointer;\n",
              "      display: none;\n",
              "      fill: #1967D2;\n",
              "      height: 32px;\n",
              "      padding: 0 0 0 0;\n",
              "      width: 32px;\n",
              "    }\n",
              "\n",
              "    .colab-df-convert:hover {\n",
              "      background-color: #E2EBFA;\n",
              "      box-shadow: 0px 1px 2px rgba(60, 64, 67, 0.3), 0px 1px 3px 1px rgba(60, 64, 67, 0.15);\n",
              "      fill: #174EA6;\n",
              "    }\n",
              "\n",
              "    [theme=dark] .colab-df-convert {\n",
              "      background-color: #3B4455;\n",
              "      fill: #D2E3FC;\n",
              "    }\n",
              "\n",
              "    [theme=dark] .colab-df-convert:hover {\n",
              "      background-color: #434B5C;\n",
              "      box-shadow: 0px 1px 3px 1px rgba(0, 0, 0, 0.15);\n",
              "      filter: drop-shadow(0px 1px 2px rgba(0, 0, 0, 0.3));\n",
              "      fill: #FFFFFF;\n",
              "    }\n",
              "  </style>\n",
              "\n",
              "      <script>\n",
              "        const buttonEl =\n",
              "          document.querySelector('#df-0518be7e-9d3f-4933-bab8-ad8f6b9e6dd9 button.colab-df-convert');\n",
              "        buttonEl.style.display =\n",
              "          google.colab.kernel.accessAllowed ? 'block' : 'none';\n",
              "\n",
              "        async function convertToInteractive(key) {\n",
              "          const element = document.querySelector('#df-0518be7e-9d3f-4933-bab8-ad8f6b9e6dd9');\n",
              "          const dataTable =\n",
              "            await google.colab.kernel.invokeFunction('convertToInteractive',\n",
              "                                                     [key], {});\n",
              "          if (!dataTable) return;\n",
              "\n",
              "          const docLinkHtml = 'Like what you see? Visit the ' +\n",
              "            '<a target=\"_blank\" href=https://colab.research.google.com/notebooks/data_table.ipynb>data table notebook</a>'\n",
              "            + ' to learn more about interactive tables.';\n",
              "          element.innerHTML = '';\n",
              "          dataTable['output_type'] = 'display_data';\n",
              "          await google.colab.output.renderOutput(dataTable, element);\n",
              "          const docLink = document.createElement('div');\n",
              "          docLink.innerHTML = docLinkHtml;\n",
              "          element.appendChild(docLink);\n",
              "        }\n",
              "      </script>\n",
              "    </div>\n",
              "  </div>\n",
              "  "
            ]
          },
          "metadata": {},
          "execution_count": 85
        }
      ]
    },
    {
      "cell_type": "code",
      "source": [
        "X.isnull().any(axis=0)"
      ],
      "metadata": {
        "colab": {
          "base_uri": "https://localhost:8080/"
        },
        "id": "nILNeKaGhVOt",
        "outputId": "18a8d4c4-4959-49ce-d379-3475f9d0ef9e"
      },
      "execution_count": 86,
      "outputs": [
        {
          "output_type": "execute_result",
          "data": {
            "text/plain": [
              "PassengerId     False\n",
              "HomePlanet       True\n",
              "CryoSleep        True\n",
              "Cabin            True\n",
              "Destination      True\n",
              "Age             False\n",
              "VIP              True\n",
              "RoomService     False\n",
              "FoodCourt       False\n",
              "ShoppingMall    False\n",
              "Spa             False\n",
              "VRDeck          False\n",
              "Name             True\n",
              "dtype: bool"
            ]
          },
          "metadata": {},
          "execution_count": 86
        }
      ]
    },
    {
      "cell_type": "markdown",
      "source": [
        "No codificaremos las variables Cabin y Name dado que tienen mas de 1000 categorías"
      ],
      "metadata": {
        "id": "atubBB-etd0e"
      }
    },
    {
      "cell_type": "code",
      "source": [
        "#Codificamos las variables categóricas y estandarizamos\n",
        "for var in X:\n",
        "    if X[var].dtype == 'object':\n",
        "        unique_cases = X[var].unique()\n",
        "        if len(unique_cases) > 5:\n",
        "            print(var)\n",
        "            X.drop(var, inplace=True, axis=1)\n",
        "\n",
        "passengerId = X.PassengerId\n",
        "X.drop('PassengerId',axis=1,inplace=True)\n",
        "\n",
        "print(X.columns)\n",
        "label_cols = [\"HomePlanet\", \"CryoSleep\", \"Destination\" ,\"VIP\"]\n",
        "\n",
        "for col in label_cols:\n",
        "    X[col] = X[col].astype(str)\n",
        "    X[col] = LabelEncoder().fit_transform(X[col])\n",
        "\n",
        "x_names = X.columns\n",
        "X = StandardScaler().fit_transform(X) #Estandarizamos los datos\n",
        "X = pd.DataFrame(X, columns=x_names)\n",
        "X"
      ],
      "metadata": {
        "colab": {
          "base_uri": "https://localhost:8080/",
          "height": 498
        },
        "id": "q-8Cgr3O4Vxd",
        "outputId": "3f2ec86c-6ee1-46ad-9d76-f56338b44260"
      },
      "execution_count": 87,
      "outputs": [
        {
          "output_type": "stream",
          "name": "stdout",
          "text": [
            "Cabin\n",
            "Name\n",
            "Index(['HomePlanet', 'CryoSleep', 'Destination', 'Age', 'VIP', 'RoomService',\n",
            "       'FoodCourt', 'ShoppingMall', 'Spa', 'VRDeck'],\n",
            "      dtype='object')\n"
          ]
        },
        {
          "output_type": "execute_result",
          "data": {
            "text/plain": [
              "      HomePlanet  CryoSleep  Destination       Age       VIP  RoomService  \\\n",
              "0       0.320042  -0.746493     0.579856  1.963451 -0.209979    -0.334783   \n",
              "1       1.478619   1.108595     1.769839 -0.753413 -0.209979    -0.334783   \n",
              "2       0.320042   1.108595     0.579856  0.291535  5.752517    -0.334783   \n",
              "3      -0.838536  -0.746493     0.579856  0.988167 -0.209979    -0.124591   \n",
              "4      -0.838536  -0.746493     0.579856 -0.683750 -0.209979    -0.334783   \n",
              "...          ...        ...          ...       ...       ...          ...   \n",
              "7818    1.478619  -0.746493     0.579856 -1.171392  5.752517    -0.334783   \n",
              "7819   -0.838536  -0.746493     0.579856  1.057830 -0.209979    -0.334783   \n",
              "7820    1.478619   1.108595     0.579856  1.824125 -0.209979    -0.334783   \n",
              "7821   -0.838536  -0.746493     0.579856 -0.962403 -0.209979    -0.334783   \n",
              "7822    0.320042   1.108595    -1.800110  1.127493 -0.209979    -0.334783   \n",
              "\n",
              "      FoodCourt  ShoppingMall       Spa    VRDeck  \n",
              "0      2.112771     -0.267822 -0.098783  3.298478  \n",
              "1     -0.282947     -0.289743 -0.271881 -0.271840  \n",
              "2     -0.282947     -0.289743 -0.271881 -0.271840  \n",
              "3      0.466995     -0.289743 -0.271881 -0.083832  \n",
              "4     -0.282947      0.840008 -0.270993 -0.240506  \n",
              "...         ...           ...       ...       ...  \n",
              "7818  -0.282947     -0.289743 -0.271881 -0.271840  \n",
              "7819  -0.282947      0.964786 -0.216845 -0.269076  \n",
              "7820  -0.282947     -0.289743 -0.271881 -0.271840  \n",
              "7821   0.238536     -0.082341 -0.271881 -0.253408  \n",
              "7822  -0.282947     -0.289743 -0.271881 -0.271840  \n",
              "\n",
              "[7823 rows x 10 columns]"
            ],
            "text/html": [
              "\n",
              "  <div id=\"df-f9954f36-9bab-4675-919d-22398d030a87\">\n",
              "    <div class=\"colab-df-container\">\n",
              "      <div>\n",
              "<style scoped>\n",
              "    .dataframe tbody tr th:only-of-type {\n",
              "        vertical-align: middle;\n",
              "    }\n",
              "\n",
              "    .dataframe tbody tr th {\n",
              "        vertical-align: top;\n",
              "    }\n",
              "\n",
              "    .dataframe thead th {\n",
              "        text-align: right;\n",
              "    }\n",
              "</style>\n",
              "<table border=\"1\" class=\"dataframe\">\n",
              "  <thead>\n",
              "    <tr style=\"text-align: right;\">\n",
              "      <th></th>\n",
              "      <th>HomePlanet</th>\n",
              "      <th>CryoSleep</th>\n",
              "      <th>Destination</th>\n",
              "      <th>Age</th>\n",
              "      <th>VIP</th>\n",
              "      <th>RoomService</th>\n",
              "      <th>FoodCourt</th>\n",
              "      <th>ShoppingMall</th>\n",
              "      <th>Spa</th>\n",
              "      <th>VRDeck</th>\n",
              "    </tr>\n",
              "  </thead>\n",
              "  <tbody>\n",
              "    <tr>\n",
              "      <th>0</th>\n",
              "      <td>0.320042</td>\n",
              "      <td>-0.746493</td>\n",
              "      <td>0.579856</td>\n",
              "      <td>1.963451</td>\n",
              "      <td>-0.209979</td>\n",
              "      <td>-0.334783</td>\n",
              "      <td>2.112771</td>\n",
              "      <td>-0.267822</td>\n",
              "      <td>-0.098783</td>\n",
              "      <td>3.298478</td>\n",
              "    </tr>\n",
              "    <tr>\n",
              "      <th>1</th>\n",
              "      <td>1.478619</td>\n",
              "      <td>1.108595</td>\n",
              "      <td>1.769839</td>\n",
              "      <td>-0.753413</td>\n",
              "      <td>-0.209979</td>\n",
              "      <td>-0.334783</td>\n",
              "      <td>-0.282947</td>\n",
              "      <td>-0.289743</td>\n",
              "      <td>-0.271881</td>\n",
              "      <td>-0.271840</td>\n",
              "    </tr>\n",
              "    <tr>\n",
              "      <th>2</th>\n",
              "      <td>0.320042</td>\n",
              "      <td>1.108595</td>\n",
              "      <td>0.579856</td>\n",
              "      <td>0.291535</td>\n",
              "      <td>5.752517</td>\n",
              "      <td>-0.334783</td>\n",
              "      <td>-0.282947</td>\n",
              "      <td>-0.289743</td>\n",
              "      <td>-0.271881</td>\n",
              "      <td>-0.271840</td>\n",
              "    </tr>\n",
              "    <tr>\n",
              "      <th>3</th>\n",
              "      <td>-0.838536</td>\n",
              "      <td>-0.746493</td>\n",
              "      <td>0.579856</td>\n",
              "      <td>0.988167</td>\n",
              "      <td>-0.209979</td>\n",
              "      <td>-0.124591</td>\n",
              "      <td>0.466995</td>\n",
              "      <td>-0.289743</td>\n",
              "      <td>-0.271881</td>\n",
              "      <td>-0.083832</td>\n",
              "    </tr>\n",
              "    <tr>\n",
              "      <th>4</th>\n",
              "      <td>-0.838536</td>\n",
              "      <td>-0.746493</td>\n",
              "      <td>0.579856</td>\n",
              "      <td>-0.683750</td>\n",
              "      <td>-0.209979</td>\n",
              "      <td>-0.334783</td>\n",
              "      <td>-0.282947</td>\n",
              "      <td>0.840008</td>\n",
              "      <td>-0.270993</td>\n",
              "      <td>-0.240506</td>\n",
              "    </tr>\n",
              "    <tr>\n",
              "      <th>...</th>\n",
              "      <td>...</td>\n",
              "      <td>...</td>\n",
              "      <td>...</td>\n",
              "      <td>...</td>\n",
              "      <td>...</td>\n",
              "      <td>...</td>\n",
              "      <td>...</td>\n",
              "      <td>...</td>\n",
              "      <td>...</td>\n",
              "      <td>...</td>\n",
              "    </tr>\n",
              "    <tr>\n",
              "      <th>7818</th>\n",
              "      <td>1.478619</td>\n",
              "      <td>-0.746493</td>\n",
              "      <td>0.579856</td>\n",
              "      <td>-1.171392</td>\n",
              "      <td>5.752517</td>\n",
              "      <td>-0.334783</td>\n",
              "      <td>-0.282947</td>\n",
              "      <td>-0.289743</td>\n",
              "      <td>-0.271881</td>\n",
              "      <td>-0.271840</td>\n",
              "    </tr>\n",
              "    <tr>\n",
              "      <th>7819</th>\n",
              "      <td>-0.838536</td>\n",
              "      <td>-0.746493</td>\n",
              "      <td>0.579856</td>\n",
              "      <td>1.057830</td>\n",
              "      <td>-0.209979</td>\n",
              "      <td>-0.334783</td>\n",
              "      <td>-0.282947</td>\n",
              "      <td>0.964786</td>\n",
              "      <td>-0.216845</td>\n",
              "      <td>-0.269076</td>\n",
              "    </tr>\n",
              "    <tr>\n",
              "      <th>7820</th>\n",
              "      <td>1.478619</td>\n",
              "      <td>1.108595</td>\n",
              "      <td>0.579856</td>\n",
              "      <td>1.824125</td>\n",
              "      <td>-0.209979</td>\n",
              "      <td>-0.334783</td>\n",
              "      <td>-0.282947</td>\n",
              "      <td>-0.289743</td>\n",
              "      <td>-0.271881</td>\n",
              "      <td>-0.271840</td>\n",
              "    </tr>\n",
              "    <tr>\n",
              "      <th>7821</th>\n",
              "      <td>-0.838536</td>\n",
              "      <td>-0.746493</td>\n",
              "      <td>0.579856</td>\n",
              "      <td>-0.962403</td>\n",
              "      <td>-0.209979</td>\n",
              "      <td>-0.334783</td>\n",
              "      <td>0.238536</td>\n",
              "      <td>-0.082341</td>\n",
              "      <td>-0.271881</td>\n",
              "      <td>-0.253408</td>\n",
              "    </tr>\n",
              "    <tr>\n",
              "      <th>7822</th>\n",
              "      <td>0.320042</td>\n",
              "      <td>1.108595</td>\n",
              "      <td>-1.800110</td>\n",
              "      <td>1.127493</td>\n",
              "      <td>-0.209979</td>\n",
              "      <td>-0.334783</td>\n",
              "      <td>-0.282947</td>\n",
              "      <td>-0.289743</td>\n",
              "      <td>-0.271881</td>\n",
              "      <td>-0.271840</td>\n",
              "    </tr>\n",
              "  </tbody>\n",
              "</table>\n",
              "<p>7823 rows × 10 columns</p>\n",
              "</div>\n",
              "      <button class=\"colab-df-convert\" onclick=\"convertToInteractive('df-f9954f36-9bab-4675-919d-22398d030a87')\"\n",
              "              title=\"Convert this dataframe to an interactive table.\"\n",
              "              style=\"display:none;\">\n",
              "        \n",
              "  <svg xmlns=\"http://www.w3.org/2000/svg\" height=\"24px\"viewBox=\"0 0 24 24\"\n",
              "       width=\"24px\">\n",
              "    <path d=\"M0 0h24v24H0V0z\" fill=\"none\"/>\n",
              "    <path d=\"M18.56 5.44l.94 2.06.94-2.06 2.06-.94-2.06-.94-.94-2.06-.94 2.06-2.06.94zm-11 1L8.5 8.5l.94-2.06 2.06-.94-2.06-.94L8.5 2.5l-.94 2.06-2.06.94zm10 10l.94 2.06.94-2.06 2.06-.94-2.06-.94-.94-2.06-.94 2.06-2.06.94z\"/><path d=\"M17.41 7.96l-1.37-1.37c-.4-.4-.92-.59-1.43-.59-.52 0-1.04.2-1.43.59L10.3 9.45l-7.72 7.72c-.78.78-.78 2.05 0 2.83L4 21.41c.39.39.9.59 1.41.59.51 0 1.02-.2 1.41-.59l7.78-7.78 2.81-2.81c.8-.78.8-2.07 0-2.86zM5.41 20L4 18.59l7.72-7.72 1.47 1.35L5.41 20z\"/>\n",
              "  </svg>\n",
              "      </button>\n",
              "      \n",
              "  <style>\n",
              "    .colab-df-container {\n",
              "      display:flex;\n",
              "      flex-wrap:wrap;\n",
              "      gap: 12px;\n",
              "    }\n",
              "\n",
              "    .colab-df-convert {\n",
              "      background-color: #E8F0FE;\n",
              "      border: none;\n",
              "      border-radius: 50%;\n",
              "      cursor: pointer;\n",
              "      display: none;\n",
              "      fill: #1967D2;\n",
              "      height: 32px;\n",
              "      padding: 0 0 0 0;\n",
              "      width: 32px;\n",
              "    }\n",
              "\n",
              "    .colab-df-convert:hover {\n",
              "      background-color: #E2EBFA;\n",
              "      box-shadow: 0px 1px 2px rgba(60, 64, 67, 0.3), 0px 1px 3px 1px rgba(60, 64, 67, 0.15);\n",
              "      fill: #174EA6;\n",
              "    }\n",
              "\n",
              "    [theme=dark] .colab-df-convert {\n",
              "      background-color: #3B4455;\n",
              "      fill: #D2E3FC;\n",
              "    }\n",
              "\n",
              "    [theme=dark] .colab-df-convert:hover {\n",
              "      background-color: #434B5C;\n",
              "      box-shadow: 0px 1px 3px 1px rgba(0, 0, 0, 0.15);\n",
              "      filter: drop-shadow(0px 1px 2px rgba(0, 0, 0, 0.3));\n",
              "      fill: #FFFFFF;\n",
              "    }\n",
              "  </style>\n",
              "\n",
              "      <script>\n",
              "        const buttonEl =\n",
              "          document.querySelector('#df-f9954f36-9bab-4675-919d-22398d030a87 button.colab-df-convert');\n",
              "        buttonEl.style.display =\n",
              "          google.colab.kernel.accessAllowed ? 'block' : 'none';\n",
              "\n",
              "        async function convertToInteractive(key) {\n",
              "          const element = document.querySelector('#df-f9954f36-9bab-4675-919d-22398d030a87');\n",
              "          const dataTable =\n",
              "            await google.colab.kernel.invokeFunction('convertToInteractive',\n",
              "                                                     [key], {});\n",
              "          if (!dataTable) return;\n",
              "\n",
              "          const docLinkHtml = 'Like what you see? Visit the ' +\n",
              "            '<a target=\"_blank\" href=https://colab.research.google.com/notebooks/data_table.ipynb>data table notebook</a>'\n",
              "            + ' to learn more about interactive tables.';\n",
              "          element.innerHTML = '';\n",
              "          dataTable['output_type'] = 'display_data';\n",
              "          await google.colab.output.renderOutput(dataTable, element);\n",
              "          const docLink = document.createElement('div');\n",
              "          docLink.innerHTML = docLinkHtml;\n",
              "          element.appendChild(docLink);\n",
              "        }\n",
              "      </script>\n",
              "    </div>\n",
              "  </div>\n",
              "  "
            ]
          },
          "metadata": {},
          "execution_count": 87
        }
      ]
    },
    {
      "cell_type": "code",
      "source": [
        "#Imprimimos columnas que registran valores nulos\n",
        "#True = contiene valor nulo\n",
        "X.isnull().any(axis=0)"
      ],
      "metadata": {
        "colab": {
          "base_uri": "https://localhost:8080/"
        },
        "id": "1IdMZyVmgL9r",
        "outputId": "a520fbd8-849d-4478-fe3e-6da1a92fd9de"
      },
      "execution_count": 88,
      "outputs": [
        {
          "output_type": "execute_result",
          "data": {
            "text/plain": [
              "HomePlanet      False\n",
              "CryoSleep       False\n",
              "Destination     False\n",
              "Age             False\n",
              "VIP             False\n",
              "RoomService     False\n",
              "FoodCourt       False\n",
              "ShoppingMall    False\n",
              "Spa             False\n",
              "VRDeck          False\n",
              "dtype: bool"
            ]
          },
          "metadata": {},
          "execution_count": 88
        }
      ]
    },
    {
      "cell_type": "code",
      "execution_count": 89,
      "metadata": {
        "id": "IRuzoBa9i2QE"
      },
      "outputs": [],
      "source": [
        "x_train, x_test, y_train, y_test = train_test_split(X, y, train_size=0.8, random_state = 8)"
      ]
    },
    {
      "cell_type": "markdown",
      "metadata": {
        "id": "N_kkNF7Si2QF"
      },
      "source": [
        "### Planteo modelos\n",
        "Tienen que elegir los 2 mejores modelos así que prueben con varios."
      ]
    },
    {
      "cell_type": "code",
      "execution_count": 90,
      "metadata": {
        "id": "L0NttAC0i2QG",
        "outputId": "612b574f-f353-4ab1-8844-8ab7acdbe5a2",
        "colab": {
          "base_uri": "https://localhost:8080/"
        }
      },
      "outputs": [
        {
          "output_type": "stream",
          "name": "stdout",
          "text": [
            "Árbol de decisión\n",
            "Accuracy train Árbol de decisión: 93.94%\n",
            "Accuracy test {names}: 72.91%\n"
          ]
        }
      ],
      "source": [
        "clfs = [DecisionTreeClassifier()]\n",
        "names = ['Árbol de decisión']\n",
        "\n",
        "trained_models = []\n",
        "accuracy_models = []\n",
        "for clf,name in zip(clfs,names):\n",
        "    print(name)\n",
        "    clf.fit(x_train, y_train)\n",
        "    train_predictions = clf.predict(x_train)\n",
        "    accuracy = accuracy_score(y_train, train_predictions)\n",
        "    print(f\"Accuracy train {name}: %.2f%%\" % (accuracy * 100.0))\n",
        "\n",
        "    train_predictions = clf.predict(x_test)\n",
        "    accuracy = accuracy_score(y_test, train_predictions)\n",
        "    print(\"Accuracy test {names}: %.2f%%\" % (accuracy * 100.0))\n",
        "    # plot_confusion_matrix(clf,x_test,y_test)\n",
        "    trained_models.append(clf)\n",
        "    accuracy_models.append(accuracy*100)"
      ]
    },
    {
      "cell_type": "markdown",
      "metadata": {
        "id": "yHCd-qS3i2QI"
      },
      "source": [
        "### Algún tipo de ajuste de hiperparámetros de los modelos elegidos"
      ]
    },
    {
      "cell_type": "code",
      "execution_count": 91,
      "metadata": {
        "id": "Y6emgHtDi2QJ",
        "outputId": "8e91f799-c048-431a-dd37-c9aad240052a",
        "colab": {
          "base_uri": "https://localhost:8080/"
        }
      },
      "outputs": [
        {
          "output_type": "execute_result",
          "data": {
            "text/plain": [
              "{'criterion': 'gini', 'max_depth': 10, 'splitter': 'best'}"
            ]
          },
          "metadata": {},
          "execution_count": 91
        }
      ],
      "source": [
        "grid = GridSearchCV(DecisionTreeClassifier(),\n",
        " {'criterion':('gini','entropy'),\n",
        " 'splitter':(\"best\",\"random\"),\n",
        " 'max_depth':(10,20,100)})\n",
        "grid.fit(x_train,y_train)\n",
        "grid.best_params_"
      ]
    },
    {
      "cell_type": "code",
      "execution_count": 92,
      "metadata": {
        "id": "MQBnt7L3i2QL",
        "outputId": "91dc87f6-ccdf-4ce4-9f2b-1d15180c8b5a",
        "colab": {
          "base_uri": "https://localhost:8080/",
          "height": 479
        }
      },
      "outputs": [
        {
          "output_type": "stream",
          "name": "stdout",
          "text": [
            "Accuracy train Arbol de decisión: 82.77%\n",
            "Accuracy test Arbol de decisión: 77.19%\n"
          ]
        },
        {
          "output_type": "display_data",
          "data": {
            "text/plain": [
              "<Figure size 432x288 with 2 Axes>"
            ],
            "image/png": "[encoded data removed]"
          },
          "metadata": {
            "needs_background": "light"
          }
        },
        {
          "output_type": "stream",
          "name": "stdout",
          "text": [
            "              precision    recall  f1-score   support\n",
            "\n",
            "           0       0.79      0.72      0.75       748\n",
            "           1       0.76      0.82      0.79       817\n",
            "\n",
            "    accuracy                           0.77      1565\n",
            "   macro avg       0.77      0.77      0.77      1565\n",
            "weighted avg       0.77      0.77      0.77      1565\n",
            "\n"
          ]
        }
      ],
      "source": [
        "clf = DecisionTreeClassifier(**grid.best_params_).fit(x_train, y_train)\n",
        "\n",
        "train_predictions = clf.predict(x_train)\n",
        "accuracy = accuracy_score(y_train, train_predictions)\n",
        "print(\"Accuracy train Arbol de decisión: %.2f%%\" % (accuracy * 100.0))\n",
        "\n",
        "test_predictions = clf.predict(x_test)\n",
        "accuracy = accuracy_score(y_test, test_predictions)\n",
        "print(\"Accuracy test Arbol de decisión: %.2f%%\" % (accuracy * 100.0))\n",
        "ConfusionMatrixDisplay.from_predictions(y_test, test_predictions)\n",
        "plt.show()\n",
        "\n",
        "print(classification_report(y_test,clf.predict(x_test)))"
      ]
    },
    {
      "cell_type": "code",
      "execution_count": 93,
      "metadata": {
        "id": "dEKkukvPi2QL",
        "outputId": "b690d525-f9b5-4e77-d284-b07783c9913e",
        "colab": {
          "base_uri": "https://localhost:8080/"
        }
      },
      "outputs": [
        {
          "output_type": "stream",
          "name": "stdout",
          "text": [
            "DecisionTreeClassifier(max_depth=10)\n",
            "Precisión test fold 0: 78.59\n",
            "Precisión test fold 1: 77.80\n",
            "Precisión test fold 2: 76.44\n",
            "Precisión test fold 3: 77.14\n",
            "Precisión test fold 4: 76.50\n",
            "Avg. accuracy = 77.29291327321529\n"
          ]
        }
      ],
      "source": [
        "FOLDS=5\n",
        "cv = StratifiedKFold(n_splits=FOLDS, shuffle=True, random_state=10)\n",
        "\n",
        "x_train2 = np.array(x_train)\n",
        "y_train2 = np.array(y_train)\n",
        "\n",
        "\n",
        "for clfi, name in zip([DecisionTreeClassifier(**grid.best_params_)],names):\n",
        "    print(clfi)\n",
        "    avg_accuracy = 0\n",
        "    for fold, (train_idx, val_idx) in enumerate(cv.split(x_train2, y_train2)):\n",
        "        xi, yi = x_train2[train_idx], y_train2[train_idx]\n",
        "        x_valid, y_valid = x_train2[val_idx], y_train2[val_idx]\n",
        "        clfi = clfi.fit(xi, yi)\n",
        "\n",
        "        test_predictions = clfi.predict(x_valid)\n",
        "        accuracy = accuracy_score(y_valid, test_predictions)\n",
        "        avg_accuracy +=accuracy\n",
        "        print(f\"Precisión test fold {fold}: {accuracy * 100.0 :.2f}\" % ())\n",
        "\n",
        "    avg_accuracy /= FOLDS\n",
        "    print(f'Avg. accuracy = {avg_accuracy * 100}')"
      ]
    },
    {
      "cell_type": "code",
      "source": [
        "import itertools\n",
        "import matplotlib.pyplot as plt\n",
        "from sklearn.metrics import confusion_matrix\n",
        "from sklearn.utils.multiclass import unique_labels\n",
        "\n",
        "def plot_confusion_matrix(y_verd, y_pred, classes,\n",
        "                          normalize=False,\n",
        "                          title=None,\n",
        "                          cmap=plt.cm.Blues,\n",
        "                          ax=None):\n",
        "    \"\"\"\n",
        "    This function prints and plots the confusion matrix.\n",
        "    Normalization can be applied by setting `normalize=True`.\n",
        "    \"\"\"\n",
        "    cm = confusion_matrix(y_verd, y_pred)\n",
        "    classes = classes[unique_labels(y_verd, y_pred)]\n",
        "    if normalize:\n",
        "        cm = cm.astype('float') / cm.sum(axis=1)[:, np.newaxis]\n",
        "    \n",
        "    if ax == None:\n",
        "        fig, ax = plt.subplots()    \n",
        "\n",
        "\n",
        "    am = ax.imshow(cm, interpolation='nearest', cmap=cmap)\n",
        "    ax.figure.colorbar(am, ax=ax)\n",
        "    ax.set(xticks=np.arange(cm.shape[1]),\n",
        "           yticks=np.arange(cm.shape[0]),\n",
        "           xticklabels=classes, yticklabels=classes,\n",
        "           ylabel='Etiqueta correcta',\n",
        "           xlabel='Etiqueta predicha',\n",
        "           title=title,)\n",
        "\n",
        "    \n",
        "\n",
        "    fmt = '.2f' if normalize else 'd'\n",
        "    thresh = cm.max() / 2.\n",
        "    for i, j in itertools.product(range(cm.shape[0]), range(cm.shape[1])):\n",
        "        ax.text(j, i, format(cm[i, j], fmt),\n",
        "                 horizontalalignment=\"center\",\n",
        "                 color=\"white\" if cm[i, j] > thresh else \"black\")\n",
        "    \n",
        "    plt.setp(ax.get_xticklabels(), rotation=45, ha=\"right\",\n",
        "             rotation_mode=\"anchor\")\n",
        "    return ax"
      ],
      "metadata": {
        "id": "IKA5TcBzSyMQ"
      },
      "execution_count": 94,
      "outputs": []
    },
    {
      "cell_type": "code",
      "source": [
        "from sklearn.tree import DecisionTreeClassifier\n",
        "from sklearn import tree"
      ],
      "metadata": {
        "id": "s3-IBkedZpkG"
      },
      "execution_count": 95,
      "outputs": []
    },
    {
      "cell_type": "code",
      "source": [
        "fig, ax2 = plt.subplots(1,2,figsize=(13, 4))\n",
        "for n, criterion in enumerate(('gini','entropy')):\n",
        "    param_grid2 = {\n",
        "     'max_depth': [10,20,100],  # Profundidad máxima del árbol\n",
        "        'min_samples_leaf': [1,2],  # Cantidad mínima de samples por hoja\n",
        "    }\n",
        "    modelt = tree.DecisionTreeClassifier(random_state=22,criterion=criterion)\n",
        "    cvt = GridSearchCV(modelt, param_grid2, scoring='accuracy',cv=5)\n",
        "    cvt.fit(x_train, y_train)\n",
        "\n",
        "    print(\"******************************************************************\")\n",
        "    print(\"*********Hiperparámetros para citerio de partición\",criterion,\"*********\")\n",
        "    print(\"Mejor conjunto de parámetros:\")\n",
        "    print(cvt.best_params_)\n",
        "    print(\"Train dataset accuracy: %0.03f\" % cvt.score(x_train,y_train))\n",
        "\n",
        "    y_train_predtt = cvt.predict(x_train)\n",
        "    y_test_predt = cvt.predict(x_test)\n",
        "    print(\"****Reporte de clasificación sobre conjunto de entrenamiento (métricas)*****\") \n",
        "    print(classification_report(y_train, y_train_predtt))\n",
        "    \n",
        "    #ConfusionMatrixDisplay.from_predictions(y_train, y_train_predtt)\n",
        "    #plt.show() \n",
        "\n",
        "    print(\"Test dataset accuracy: %0.03f\" % cvt.score(x_test,y_test))\n",
        "    print(\"****Reporte de clasificación sobre conjunto de evaluación*****\") \n",
        "    print(classification_report(y_test, y_test_predt))\n",
        "    #ConfusionMatrixDisplay.from_predictions(y_test, y_test_predt)\n",
        "    #plt.show() \n",
        "\n",
        "    plot_confusion_matrix(y_train, y_train_predtt, classes=df.Transported.unique(),\n",
        "                      ax=ax2[n],title=\"Matriz de confusión para %s\" % criterion)\n",
        "    "
      ],
      "metadata": {
        "colab": {
          "base_uri": "https://localhost:8080/",
          "height": 1000
        },
        "id": "XnCTb5u1Sg5v",
        "outputId": "8b334ebb-e121-4491-d0d7-43f50e099304"
      },
      "execution_count": 96,
      "outputs": [
        {
          "output_type": "stream",
          "name": "stdout",
          "text": [
            "******************************************************************\n",
            "*********Hiperparámetros para citerio de partición gini *********\n",
            "Mejor conjunto de parámetros:\n",
            "{'max_depth': 10, 'min_samples_leaf': 1}\n",
            "Train dataset accuracy: 0.828\n",
            "****Reporte de clasificación sobre conjunto de entrenamiento (métricas)*****\n",
            "              precision    recall  f1-score   support\n",
            "\n",
            "           0       0.88      0.76      0.81      3111\n",
            "           1       0.79      0.89      0.84      3147\n",
            "\n",
            "    accuracy                           0.83      6258\n",
            "   macro avg       0.83      0.83      0.83      6258\n",
            "weighted avg       0.83      0.83      0.83      6258\n",
            "\n",
            "Test dataset accuracy: 0.772\n",
            "****Reporte de clasificación sobre conjunto de evaluación*****\n",
            "              precision    recall  f1-score   support\n",
            "\n",
            "           0       0.79      0.71      0.75       748\n",
            "           1       0.76      0.83      0.79       817\n",
            "\n",
            "    accuracy                           0.77      1565\n",
            "   macro avg       0.77      0.77      0.77      1565\n",
            "weighted avg       0.77      0.77      0.77      1565\n",
            "\n",
            "******************************************************************\n",
            "*********Hiperparámetros para citerio de partición entropy *********\n",
            "Mejor conjunto de parámetros:\n",
            "{'max_depth': 10, 'min_samples_leaf': 2}\n",
            "Train dataset accuracy: 0.820\n",
            "****Reporte de clasificación sobre conjunto de entrenamiento (métricas)*****\n",
            "              precision    recall  f1-score   support\n",
            "\n",
            "           0       0.85      0.78      0.81      3111\n",
            "           1       0.80      0.86      0.83      3147\n",
            "\n",
            "    accuracy                           0.82      6258\n",
            "   macro avg       0.82      0.82      0.82      6258\n",
            "weighted avg       0.82      0.82      0.82      6258\n",
            "\n",
            "Test dataset accuracy: 0.792\n",
            "****Reporte de clasificación sobre conjunto de evaluación*****\n",
            "              precision    recall  f1-score   support\n",
            "\n",
            "           0       0.79      0.77      0.78       748\n",
            "           1       0.79      0.81      0.80       817\n",
            "\n",
            "    accuracy                           0.79      1565\n",
            "   macro avg       0.79      0.79      0.79      1565\n",
            "weighted avg       0.79      0.79      0.79      1565\n",
            "\n"
          ]
        },
        {
          "output_type": "display_data",
          "data": {
            "text/plain": [
              "<Figure size 936x288 with 4 Axes>"
            ],
            "image/png": "[encoded data removed]"
          },
          "metadata": {
            "needs_background": "light"
          }
        }
      ]
    },
    {
      "cell_type": "code",
      "source": [
        "from sklearn.ensemble import RandomForestClassifier as RFC\n",
        "\n",
        "params={#'criterion':('gini','entropy'), \n",
        "        'min_samples_leaf':(2,3,4),\n",
        "        'min_samples_split':(100,110,120),\n",
        "        #'max_features':(\"auto\",\"sqrt\",\"log2\",None),\n",
        "        'n_estimators' : (70,80,90)}\n",
        "\n",
        "clf2 = RFC(random_state=22,criterion='gini',max_features=None)\n",
        "grid = GridSearchCV(clf2, params, scoring='accuracy', cv=5,n_jobs=4)\n",
        "grid.fit(x_train,y_train)\n",
        "print('Best Decision Tree accuracy: ',grid.best_score_)\n",
        "print(grid.best_estimator_)"
      ],
      "metadata": {
        "colab": {
          "base_uri": "https://localhost:8080/"
        },
        "id": "0Iytjqi_ro_6",
        "outputId": "d7e5b795-c9f8-442f-ca6f-f93a12511429"
      },
      "execution_count": 97,
      "outputs": [
        {
          "output_type": "stream",
          "name": "stdout",
          "text": [
            "Best Decision Tree accuracy:  0.7943443328404368\n",
            "RandomForestClassifier(max_features=None, min_samples_leaf=3,\n",
            "                       min_samples_split=100, n_estimators=80, random_state=22)\n"
          ]
        }
      ]
    },
    {
      "cell_type": "code",
      "source": [
        "\n",
        "clf3 = RFC(random_state=617, criterion=\"gini\",\n",
        "                                       max_features=None, min_samples_leaf=3,\n",
        "                       min_samples_split=100, n_estimators=80)\n",
        "clf3.fit(x_train, y_train)\n",
        "print(\"Train dataset accuracy: %0.03f\" % clf3.score(x_train,y_train))"
      ],
      "metadata": {
        "colab": {
          "base_uri": "https://localhost:8080/"
        },
        "id": "3gXWgg7wtyfY",
        "outputId": "3332cf33-4798-49f9-c7b8-571e6f593a6e"
      },
      "execution_count": 98,
      "outputs": [
        {
          "output_type": "stream",
          "name": "stdout",
          "text": [
            "Train dataset accuracy: 0.818\n"
          ]
        }
      ]
    },
    {
      "cell_type": "code",
      "source": [
        "y_test_predtt = clf3.predict(x_test)\n",
        "print(\"Test dataset accuracy: %0.03f\" % clf3.score(x_test,y_test))\n",
        "print(\"****Reporte de clasificación sobre conjunto de evaluación (métricas)*****\") \n",
        "print(classification_report(y_test, y_test_predtt)) \n",
        "plot_confusion_matrix(y_test, y_test_predtt, classes=df.Transported.unique(),\n",
        "                        title=\"Matriz de confusión para función de coste gini\");"
      ],
      "metadata": {
        "colab": {
          "base_uri": "https://localhost:8080/",
          "height": 497
        },
        "id": "lTJqhQoquv2x",
        "outputId": "4e9f0b4b-f9fd-4a60-9c86-bc48cd478e53"
      },
      "execution_count": 73,
      "outputs": [
        {
          "output_type": "stream",
          "name": "stdout",
          "text": [
            "Test dataset accuracy: 0.803\n",
            "****Reporte de clasificación sobre conjunto de evaluación (métricas)*****\n",
            "              precision    recall  f1-score   support\n",
            "\n",
            "           0       0.79      0.80      0.79       748\n",
            "           1       0.81      0.81      0.81       817\n",
            "\n",
            "    accuracy                           0.80      1565\n",
            "   macro avg       0.80      0.80      0.80      1565\n",
            "weighted avg       0.80      0.80      0.80      1565\n",
            "\n"
          ]
        },
        {
          "output_type": "display_data",
          "data": {
            "text/plain": [
              "<Figure size 432x288 with 2 Axes>"
            ],
            "image/png": "[encoded data removed]"
          },
          "metadata": {
            "needs_background": "light"
          }
        }
      ]
    },
    {
      "cell_type": "code",
      "source": [
        "KNeighborsClassifier().get_params()"
      ],
      "metadata": {
        "colab": {
          "base_uri": "https://localhost:8080/"
        },
        "id": "_XlhpznO3umq",
        "outputId": "35a14068-4561-4f0e-b06d-28e97cce5377"
      },
      "execution_count": 114,
      "outputs": [
        {
          "output_type": "execute_result",
          "data": {
            "text/plain": [
              "{'algorithm': 'auto',\n",
              " 'leaf_size': 30,\n",
              " 'metric': 'minkowski',\n",
              " 'metric_params': None,\n",
              " 'n_jobs': None,\n",
              " 'n_neighbors': 5,\n",
              " 'p': 2,\n",
              " 'weights': 'uniform'}"
            ]
          },
          "metadata": {},
          "execution_count": 114
        }
      ]
    },
    {
      "cell_type": "code",
      "source": [
        "from sklearn.neighbors import KNeighborsClassifier\n",
        "\n",
        "params = {'n_neighbors':(3,5,7,10,15,20),\n",
        "          #'algorithm':('auto','ball_tree','kd_tree'),\n",
        "          'leaf_size':(5,10,20,30)\n",
        "         }\n",
        "\n",
        "clf4 = KNeighborsClassifier(algorithm='kd_tree')\n",
        "grid4 = GridSearchCV(clf4, params, scoring='accuracy', cv=5, n_jobs=4)\n",
        "grid4.fit(x_train,y_train)\n",
        "print('Best Decision Tree accuracy: ', grid4.best_score_)\n",
        "print('Best Decision Tree accuracy: ', grid4.score(x_train,y_train))\n",
        "print(grid4.best_params_)\n",
        "print(grid4.best_estimator_)\n"
      ],
      "metadata": {
        "colab": {
          "base_uri": "https://localhost:8080/"
        },
        "id": "hrHRwp_4zgGe",
        "outputId": "987a0244-25b9-4f6e-b4d1-7300966fd2b5"
      },
      "execution_count": 111,
      "outputs": [
        {
          "output_type": "stream",
          "name": "stdout",
          "text": [
            "Best Decision Tree accuracy:  0.776926318370224\n",
            "Best Decision Tree accuracy:  0.8018536273569831\n",
            "{'leaf_size': 5, 'n_neighbors': 15}\n",
            "KNeighborsClassifier(algorithm='kd_tree', leaf_size=5, n_neighbors=15)\n"
          ]
        }
      ]
    },
    {
      "cell_type": "code",
      "source": [
        "clf4 = KNeighborsClassifier(algorithm='kd_tree', leaf_size=5, n_neighbors=15)\n",
        "clf4.fit(x_train, y_train)\n",
        "print(\"Train dataset accuracy: %0.03f\" % clf3.score(x_train,y_train))"
      ],
      "metadata": {
        "colab": {
          "base_uri": "https://localhost:8080/"
        },
        "id": "E6AqDY4fzf3h",
        "outputId": "ca85c240-f2df-4c51-e556-b4dc21a6ad7c"
      },
      "execution_count": 112,
      "outputs": [
        {
          "output_type": "stream",
          "name": "stdout",
          "text": [
            "Train dataset accuracy: 0.818\n"
          ]
        }
      ]
    },
    {
      "cell_type": "code",
      "source": [
        "y_test_predk = clf4.predict(x_test)\n",
        "print(\"Test dataset accuracy: %0.03f\" % clf4.score(x_test,y_test))\n",
        "print(\"****Reporte de clasificación sobre conjunto de evaluación (métricas)*****\") \n",
        "print(classification_report(y_test, y_test_predk)) \n",
        "plot_confusion_matrix(y_test, y_test_predtt, classes=df.Transported.unique(),\n",
        "                        title=\"Matriz de confusión para KNC\");"
      ],
      "metadata": {
        "colab": {
          "base_uri": "https://localhost:8080/",
          "height": 497
        },
        "id": "ORlyjgRl29WY",
        "outputId": "9d5c8ac1-55c9-40ee-9497-df87f0d60106"
      },
      "execution_count": 113,
      "outputs": [
        {
          "output_type": "stream",
          "name": "stdout",
          "text": [
            "Test dataset accuracy: 0.771\n",
            "****Reporte de clasificación sobre conjunto de evaluación (métricas)*****\n",
            "              precision    recall  f1-score   support\n",
            "\n",
            "           0       0.75      0.77      0.76       748\n",
            "           1       0.79      0.77      0.78       817\n",
            "\n",
            "    accuracy                           0.77      1565\n",
            "   macro avg       0.77      0.77      0.77      1565\n",
            "weighted avg       0.77      0.77      0.77      1565\n",
            "\n"
          ]
        },
        {
          "output_type": "display_data",
          "data": {
            "text/plain": [
              "<Figure size 432x288 with 2 Axes>"
            ],
            "image/png": "[encoded data removed]"
          },
          "metadata": {
            "needs_background": "light"
          }
        }
      ]
    },
    {
      "cell_type": "markdown",
      "metadata": {
        "id": "fdXPcey2i2QN"
      },
      "source": [
        "## Generar la salida para entregar"
      ]
    },
    {
      "cell_type": "code",
      "execution_count": 51,
      "metadata": {
        "id": "q0zBoNyLi2QN"
      },
      "outputs": [],
      "source": [
        "test_df = pd.read_csv('test.csv')"
      ]
    },
    {
      "cell_type": "code",
      "execution_count": 52,
      "metadata": {
        "id": "_mDsSgO9i2QO",
        "outputId": "d8c904d4-6f65-4b7f-9403-cd04561b701a",
        "colab": {
          "base_uri": "https://localhost:8080/",
          "height": 626
        }
      },
      "outputs": [
        {
          "output_type": "execute_result",
          "data": {
            "text/plain": [
              "     PassengerId HomePlanet CryoSleep     Cabin    Destination   Age    VIP  \\\n",
              "0            415     Europa      True       NaN    55 Cancri e  34.0  False   \n",
              "1           8663      Earth      True  G/1489/S  PSO J318.5-22  13.0  False   \n",
              "2           4524      Earth     False   G/776/P    TRAPPIST-1e  44.0  False   \n",
              "3           8246      Earth     False   E/577/S  PSO J318.5-22  63.0  False   \n",
              "4           2935     Europa     False   B/117/S    55 Cancri e  10.0  False   \n",
              "..           ...        ...       ...       ...            ...   ...    ...   \n",
              "865         5996       Mars     False  F/1212/S    TRAPPIST-1e  54.0  False   \n",
              "866         5478      Earth      True   G/947/S    TRAPPIST-1e  58.0  False   \n",
              "867         6760      Earth      True  G/1148/P  PSO J318.5-22  18.0  False   \n",
              "868         1437      Earth     False   F/293/S    TRAPPIST-1e  18.0  False   \n",
              "869         5171      Earth     False  F/1059/S    TRAPPIST-1e  20.0  False   \n",
              "\n",
              "     RoomService  FoodCourt  ShoppingMall    Spa  VRDeck                Name  \n",
              "0            0.0        0.0           0.0    0.0     0.0  Minopus Taptiritty  \n",
              "1            0.0        0.0           0.0    0.0     0.0     Chrisa Francock  \n",
              "2           22.0        1.0           0.0  864.0     0.0        Elinda Miley  \n",
              "3            0.0        0.0          80.0    0.0  2322.0        Karley Goods  \n",
              "4            0.0        0.0           0.0    0.0     0.0   Arkard Sechausive  \n",
              "..           ...        ...           ...    ...     ...                 ...  \n",
              "865        676.0        0.0         231.0  379.0     0.0          Anch Perta  \n",
              "866          0.0        0.0           0.0    0.0     0.0        Hughy Hessey  \n",
              "867          0.0        0.0           0.0    0.0     0.0      Heidie Kimpson  \n",
              "868        765.0        0.0          13.0    0.0     0.0      Herina Oconley  \n",
              "869          0.0        0.0           0.0  703.0     0.0    Ollip Hinglendez  \n",
              "\n",
              "[870 rows x 13 columns]"
            ],
            "text/html": [
              "\n",
              "  <div id=\"df-6a5e911f-8ed1-456d-abb5-a465bf81aeb9\">\n",
              "    <div class=\"colab-df-container\">\n",
              "      <div>\n",
              "<style scoped>\n",
              "    .dataframe tbody tr th:only-of-type {\n",
              "        vertical-align: middle;\n",
              "    }\n",
              "\n",
              "    .dataframe tbody tr th {\n",
              "        vertical-align: top;\n",
              "    }\n",
              "\n",
              "    .dataframe thead th {\n",
              "        text-align: right;\n",
              "    }\n",
              "</style>\n",
              "<table border=\"1\" class=\"dataframe\">\n",
              "  <thead>\n",
              "    <tr style=\"text-align: right;\">\n",
              "      <th></th>\n",
              "      <th>PassengerId</th>\n",
              "      <th>HomePlanet</th>\n",
              "      <th>CryoSleep</th>\n",
              "      <th>Cabin</th>\n",
              "      <th>Destination</th>\n",
              "      <th>Age</th>\n",
              "      <th>VIP</th>\n",
              "      <th>RoomService</th>\n",
              "      <th>FoodCourt</th>\n",
              "      <th>ShoppingMall</th>\n",
              "      <th>Spa</th>\n",
              "      <th>VRDeck</th>\n",
              "      <th>Name</th>\n",
              "    </tr>\n",
              "  </thead>\n",
              "  <tbody>\n",
              "    <tr>\n",
              "      <th>0</th>\n",
              "      <td>415</td>\n",
              "      <td>Europa</td>\n",
              "      <td>True</td>\n",
              "      <td>NaN</td>\n",
              "      <td>55 Cancri e</td>\n",
              "      <td>34.0</td>\n",
              "      <td>False</td>\n",
              "      <td>0.0</td>\n",
              "      <td>0.0</td>\n",
              "      <td>0.0</td>\n",
              "      <td>0.0</td>\n",
              "      <td>0.0</td>\n",
              "      <td>Minopus Taptiritty</td>\n",
              "    </tr>\n",
              "    <tr>\n",
              "      <th>1</th>\n",
              "      <td>8663</td>\n",
              "      <td>Earth</td>\n",
              "      <td>True</td>\n",
              "      <td>G/1489/S</td>\n",
              "      <td>PSO J318.5-22</td>\n",
              "      <td>13.0</td>\n",
              "      <td>False</td>\n",
              "      <td>0.0</td>\n",
              "      <td>0.0</td>\n",
              "      <td>0.0</td>\n",
              "      <td>0.0</td>\n",
              "      <td>0.0</td>\n",
              "      <td>Chrisa Francock</td>\n",
              "    </tr>\n",
              "    <tr>\n",
              "      <th>2</th>\n",
              "      <td>4524</td>\n",
              "      <td>Earth</td>\n",
              "      <td>False</td>\n",
              "      <td>G/776/P</td>\n",
              "      <td>TRAPPIST-1e</td>\n",
              "      <td>44.0</td>\n",
              "      <td>False</td>\n",
              "      <td>22.0</td>\n",
              "      <td>1.0</td>\n",
              "      <td>0.0</td>\n",
              "      <td>864.0</td>\n",
              "      <td>0.0</td>\n",
              "      <td>Elinda Miley</td>\n",
              "    </tr>\n",
              "    <tr>\n",
              "      <th>3</th>\n",
              "      <td>8246</td>\n",
              "      <td>Earth</td>\n",
              "      <td>False</td>\n",
              "      <td>E/577/S</td>\n",
              "      <td>PSO J318.5-22</td>\n",
              "      <td>63.0</td>\n",
              "      <td>False</td>\n",
              "      <td>0.0</td>\n",
              "      <td>0.0</td>\n",
              "      <td>80.0</td>\n",
              "      <td>0.0</td>\n",
              "      <td>2322.0</td>\n",
              "      <td>Karley Goods</td>\n",
              "    </tr>\n",
              "    <tr>\n",
              "      <th>4</th>\n",
              "      <td>2935</td>\n",
              "      <td>Europa</td>\n",
              "      <td>False</td>\n",
              "      <td>B/117/S</td>\n",
              "      <td>55 Cancri e</td>\n",
              "      <td>10.0</td>\n",
              "      <td>False</td>\n",
              "      <td>0.0</td>\n",
              "      <td>0.0</td>\n",
              "      <td>0.0</td>\n",
              "      <td>0.0</td>\n",
              "      <td>0.0</td>\n",
              "      <td>Arkard Sechausive</td>\n",
              "    </tr>\n",
              "    <tr>\n",
              "      <th>...</th>\n",
              "      <td>...</td>\n",
              "      <td>...</td>\n",
              "      <td>...</td>\n",
              "      <td>...</td>\n",
              "      <td>...</td>\n",
              "      <td>...</td>\n",
              "      <td>...</td>\n",
              "      <td>...</td>\n",
              "      <td>...</td>\n",
              "      <td>...</td>\n",
              "      <td>...</td>\n",
              "      <td>...</td>\n",
              "      <td>...</td>\n",
              "    </tr>\n",
              "    <tr>\n",
              "      <th>865</th>\n",
              "      <td>5996</td>\n",
              "      <td>Mars</td>\n",
              "      <td>False</td>\n",
              "      <td>F/1212/S</td>\n",
              "      <td>TRAPPIST-1e</td>\n",
              "      <td>54.0</td>\n",
              "      <td>False</td>\n",
              "      <td>676.0</td>\n",
              "      <td>0.0</td>\n",
              "      <td>231.0</td>\n",
              "      <td>379.0</td>\n",
              "      <td>0.0</td>\n",
              "      <td>Anch Perta</td>\n",
              "    </tr>\n",
              "    <tr>\n",
              "      <th>866</th>\n",
              "      <td>5478</td>\n",
              "      <td>Earth</td>\n",
              "      <td>True</td>\n",
              "      <td>G/947/S</td>\n",
              "      <td>TRAPPIST-1e</td>\n",
              "      <td>58.0</td>\n",
              "      <td>False</td>\n",
              "      <td>0.0</td>\n",
              "      <td>0.0</td>\n",
              "      <td>0.0</td>\n",
              "      <td>0.0</td>\n",
              "      <td>0.0</td>\n",
              "      <td>Hughy Hessey</td>\n",
              "    </tr>\n",
              "    <tr>\n",
              "      <th>867</th>\n",
              "      <td>6760</td>\n",
              "      <td>Earth</td>\n",
              "      <td>True</td>\n",
              "      <td>G/1148/P</td>\n",
              "      <td>PSO J318.5-22</td>\n",
              "      <td>18.0</td>\n",
              "      <td>False</td>\n",
              "      <td>0.0</td>\n",
              "      <td>0.0</td>\n",
              "      <td>0.0</td>\n",
              "      <td>0.0</td>\n",
              "      <td>0.0</td>\n",
              "      <td>Heidie Kimpson</td>\n",
              "    </tr>\n",
              "    <tr>\n",
              "      <th>868</th>\n",
              "      <td>1437</td>\n",
              "      <td>Earth</td>\n",
              "      <td>False</td>\n",
              "      <td>F/293/S</td>\n",
              "      <td>TRAPPIST-1e</td>\n",
              "      <td>18.0</td>\n",
              "      <td>False</td>\n",
              "      <td>765.0</td>\n",
              "      <td>0.0</td>\n",
              "      <td>13.0</td>\n",
              "      <td>0.0</td>\n",
              "      <td>0.0</td>\n",
              "      <td>Herina Oconley</td>\n",
              "    </tr>\n",
              "    <tr>\n",
              "      <th>869</th>\n",
              "      <td>5171</td>\n",
              "      <td>Earth</td>\n",
              "      <td>False</td>\n",
              "      <td>F/1059/S</td>\n",
              "      <td>TRAPPIST-1e</td>\n",
              "      <td>20.0</td>\n",
              "      <td>False</td>\n",
              "      <td>0.0</td>\n",
              "      <td>0.0</td>\n",
              "      <td>0.0</td>\n",
              "      <td>703.0</td>\n",
              "      <td>0.0</td>\n",
              "      <td>Ollip Hinglendez</td>\n",
              "    </tr>\n",
              "  </tbody>\n",
              "</table>\n",
              "<p>870 rows × 13 columns</p>\n",
              "</div>\n",
              "      <button class=\"colab-df-convert\" onclick=\"convertToInteractive('df-6a5e911f-8ed1-456d-abb5-a465bf81aeb9')\"\n",
              "              title=\"Convert this dataframe to an interactive table.\"\n",
              "              style=\"display:none;\">\n",
              "        \n",
              "  <svg xmlns=\"http://www.w3.org/2000/svg\" height=\"24px\"viewBox=\"0 0 24 24\"\n",
              "       width=\"24px\">\n",
              "    <path d=\"M0 0h24v24H0V0z\" fill=\"none\"/>\n",
              "    <path d=\"M18.56 5.44l.94 2.06.94-2.06 2.06-.94-2.06-.94-.94-2.06-.94 2.06-2.06.94zm-11 1L8.5 8.5l.94-2.06 2.06-.94-2.06-.94L8.5 2.5l-.94 2.06-2.06.94zm10 10l.94 2.06.94-2.06 2.06-.94-2.06-.94-.94-2.06-.94 2.06-2.06.94z\"/><path d=\"M17.41 7.96l-1.37-1.37c-.4-.4-.92-.59-1.43-.59-.52 0-1.04.2-1.43.59L10.3 9.45l-7.72 7.72c-.78.78-.78 2.05 0 2.83L4 21.41c.39.39.9.59 1.41.59.51 0 1.02-.2 1.41-.59l7.78-7.78 2.81-2.81c.8-.78.8-2.07 0-2.86zM5.41 20L4 18.59l7.72-7.72 1.47 1.35L5.41 20z\"/>\n",
              "  </svg>\n",
              "      </button>\n",
              "      \n",
              "  <style>\n",
              "    .colab-df-container {\n",
              "      display:flex;\n",
              "      flex-wrap:wrap;\n",
              "      gap: 12px;\n",
              "    }\n",
              "\n",
              "    .colab-df-convert {\n",
              "      background-color: #E8F0FE;\n",
              "      border: none;\n",
              "      border-radius: 50%;\n",
              "      cursor: pointer;\n",
              "      display: none;\n",
              "      fill: #1967D2;\n",
              "      height: 32px;\n",
              "      padding: 0 0 0 0;\n",
              "      width: 32px;\n",
              "    }\n",
              "\n",
              "    .colab-df-convert:hover {\n",
              "      background-color: #E2EBFA;\n",
              "      box-shadow: 0px 1px 2px rgba(60, 64, 67, 0.3), 0px 1px 3px 1px rgba(60, 64, 67, 0.15);\n",
              "      fill: #174EA6;\n",
              "    }\n",
              "\n",
              "    [theme=dark] .colab-df-convert {\n",
              "      background-color: #3B4455;\n",
              "      fill: #D2E3FC;\n",
              "    }\n",
              "\n",
              "    [theme=dark] .colab-df-convert:hover {\n",
              "      background-color: #434B5C;\n",
              "      box-shadow: 0px 1px 3px 1px rgba(0, 0, 0, 0.15);\n",
              "      filter: drop-shadow(0px 1px 2px rgba(0, 0, 0, 0.3));\n",
              "      fill: #FFFFFF;\n",
              "    }\n",
              "  </style>\n",
              "\n",
              "      <script>\n",
              "        const buttonEl =\n",
              "          document.querySelector('#df-6a5e911f-8ed1-456d-abb5-a465bf81aeb9 button.colab-df-convert');\n",
              "        buttonEl.style.display =\n",
              "          google.colab.kernel.accessAllowed ? 'block' : 'none';\n",
              "\n",
              "        async function convertToInteractive(key) {\n",
              "          const element = document.querySelector('#df-6a5e911f-8ed1-456d-abb5-a465bf81aeb9');\n",
              "          const dataTable =\n",
              "            await google.colab.kernel.invokeFunction('convertToInteractive',\n",
              "                                                     [key], {});\n",
              "          if (!dataTable) return;\n",
              "\n",
              "          const docLinkHtml = 'Like what you see? Visit the ' +\n",
              "            '<a target=\"_blank\" href=https://colab.research.google.com/notebooks/data_table.ipynb>data table notebook</a>'\n",
              "            + ' to learn more about interactive tables.';\n",
              "          element.innerHTML = '';\n",
              "          dataTable['output_type'] = 'display_data';\n",
              "          await google.colab.output.renderOutput(dataTable, element);\n",
              "          const docLink = document.createElement('div');\n",
              "          docLink.innerHTML = docLinkHtml;\n",
              "          element.appendChild(docLink);\n",
              "        }\n",
              "      </script>\n",
              "    </div>\n",
              "  </div>\n",
              "  "
            ]
          },
          "metadata": {},
          "execution_count": 52
        }
      ],
      "source": [
        "test_df"
      ]
    },
    {
      "cell_type": "markdown",
      "metadata": {
        "id": "tU0MTbnri2QO"
      },
      "source": [
        "Para poder evaluar nuestra predicción los datos de prueba deben tener exactamente el mismo tratamiento que los datos de entrenamiento"
      ]
    },
    {
      "cell_type": "code",
      "execution_count": 53,
      "metadata": {
        "id": "1YN1oue9i2QP",
        "colab": {
          "base_uri": "https://localhost:8080/"
        },
        "outputId": "ac6050ef-9502-4b84-e3bc-11f32f4b4d81"
      },
      "outputs": [
        {
          "output_type": "stream",
          "name": "stderr",
          "text": [
            "/usr/local/lib/python3.7/dist-packages/sklearn/impute/_iterative.py:701: ConvergenceWarning: [IterativeImputer] Early stopping criterion not reached.\n",
            "  ConvergenceWarning,\n"
          ]
        }
      ],
      "source": [
        "test_df[imputer_cols] = kn_imputer.fit_transform(test_df[imputer_cols])\n",
        "\n",
        "PassengerId = test_df['PassengerId']\n",
        "test_df.drop(['PassengerId','Cabin', 'Name'], inplace=True, axis=1)\n",
        "\n",
        "for col in label_cols:\n",
        "    test_df[col] = test_df[col].astype(str)\n",
        "    test_df[col] = LabelEncoder().fit_transform(test_df[col])\n",
        "\n",
        "cols = test_df.columns\n",
        "test_df = StandardScaler().fit_transform(test_df)\n",
        "test_df = pd.DataFrame(test_df, columns=cols)"
      ]
    },
    {
      "cell_type": "code",
      "source": [
        "test_df"
      ],
      "metadata": {
        "colab": {
          "base_uri": "https://localhost:8080/",
          "height": 407
        },
        "id": "BCw36PBR7VMc",
        "outputId": "586a2b1c-24c3-4c4c-e568-2957733bf0d0"
      },
      "execution_count": 54,
      "outputs": [
        {
          "output_type": "execute_result",
          "data": {
            "text/plain": [
              "     HomePlanet  CryoSleep  Destination       Age       VIP  RoomService  \\\n",
              "0      0.372375   1.184602    -1.836298  0.388907 -0.194446    -0.393983   \n",
              "1     -0.784647   1.184602    -0.642293 -1.045644 -0.194446    -0.393983   \n",
              "2     -0.784647  -0.699500     0.551713  1.072026 -0.194446    -0.352792   \n",
              "3     -0.784647  -0.699500    -0.642293  2.369953 -0.194446    -0.393983   \n",
              "4      0.372375  -0.699500    -1.836298 -1.250580 -0.194446    -0.393983   \n",
              "..          ...        ...          ...       ...       ...          ...   \n",
              "865    1.529396  -0.699500     0.551713  1.755146 -0.194446     0.871716   \n",
              "866   -0.784647   1.184602     0.551713  2.028394 -0.194446    -0.393983   \n",
              "867   -0.784647   1.184602    -0.642293 -0.704084 -0.194446    -0.393983   \n",
              "868   -0.784647  -0.699500     0.551713 -0.704084 -0.194446     1.038353   \n",
              "869   -0.784647  -0.699500     0.551713 -0.567460 -0.194446    -0.393983   \n",
              "\n",
              "     FoodCourt  ShoppingMall       Spa    VRDeck  \n",
              "0    -0.316859     -0.279103 -0.315019 -0.253690  \n",
              "1    -0.316859     -0.279103 -0.315019 -0.253690  \n",
              "2    -0.316192     -0.279103  0.436229 -0.253690  \n",
              "3    -0.316859     -0.157146 -0.315019  1.274724  \n",
              "4    -0.316859     -0.279103 -0.315019 -0.253690  \n",
              "..         ...           ...       ...       ...  \n",
              "865  -0.316859      0.073049  0.014522 -0.253690  \n",
              "866  -0.316859     -0.279103 -0.315019 -0.253690  \n",
              "867  -0.316859     -0.279103 -0.315019 -0.253690  \n",
              "868  -0.316859     -0.259285 -0.315019 -0.253690  \n",
              "869  -0.316859     -0.279103  0.296240 -0.253690  \n",
              "\n",
              "[870 rows x 10 columns]"
            ],
            "text/html": [
              "\n",
              "  <div id=\"df-a1d38fc4-3ca7-4256-bb4f-733f5f7bf42e\">\n",
              "    <div class=\"colab-df-container\">\n",
              "      <div>\n",
              "<style scoped>\n",
              "    .dataframe tbody tr th:only-of-type {\n",
              "        vertical-align: middle;\n",
              "    }\n",
              "\n",
              "    .dataframe tbody tr th {\n",
              "        vertical-align: top;\n",
              "    }\n",
              "\n",
              "    .dataframe thead th {\n",
              "        text-align: right;\n",
              "    }\n",
              "</style>\n",
              "<table border=\"1\" class=\"dataframe\">\n",
              "  <thead>\n",
              "    <tr style=\"text-align: right;\">\n",
              "      <th></th>\n",
              "      <th>HomePlanet</th>\n",
              "      <th>CryoSleep</th>\n",
              "      <th>Destination</th>\n",
              "      <th>Age</th>\n",
              "      <th>VIP</th>\n",
              "      <th>RoomService</th>\n",
              "      <th>FoodCourt</th>\n",
              "      <th>ShoppingMall</th>\n",
              "      <th>Spa</th>\n",
              "      <th>VRDeck</th>\n",
              "    </tr>\n",
              "  </thead>\n",
              "  <tbody>\n",
              "    <tr>\n",
              "      <th>0</th>\n",
              "      <td>0.372375</td>\n",
              "      <td>1.184602</td>\n",
              "      <td>-1.836298</td>\n",
              "      <td>0.388907</td>\n",
              "      <td>-0.194446</td>\n",
              "      <td>-0.393983</td>\n",
              "      <td>-0.316859</td>\n",
              "      <td>-0.279103</td>\n",
              "      <td>-0.315019</td>\n",
              "      <td>-0.253690</td>\n",
              "    </tr>\n",
              "    <tr>\n",
              "      <th>1</th>\n",
              "      <td>-0.784647</td>\n",
              "      <td>1.184602</td>\n",
              "      <td>-0.642293</td>\n",
              "      <td>-1.045644</td>\n",
              "      <td>-0.194446</td>\n",
              "      <td>-0.393983</td>\n",
              "      <td>-0.316859</td>\n",
              "      <td>-0.279103</td>\n",
              "      <td>-0.315019</td>\n",
              "      <td>-0.253690</td>\n",
              "    </tr>\n",
              "    <tr>\n",
              "      <th>2</th>\n",
              "      <td>-0.784647</td>\n",
              "      <td>-0.699500</td>\n",
              "      <td>0.551713</td>\n",
              "      <td>1.072026</td>\n",
              "      <td>-0.194446</td>\n",
              "      <td>-0.352792</td>\n",
              "      <td>-0.316192</td>\n",
              "      <td>-0.279103</td>\n",
              "      <td>0.436229</td>\n",
              "      <td>-0.253690</td>\n",
              "    </tr>\n",
              "    <tr>\n",
              "      <th>3</th>\n",
              "      <td>-0.784647</td>\n",
              "      <td>-0.699500</td>\n",
              "      <td>-0.642293</td>\n",
              "      <td>2.369953</td>\n",
              "      <td>-0.194446</td>\n",
              "      <td>-0.393983</td>\n",
              "      <td>-0.316859</td>\n",
              "      <td>-0.157146</td>\n",
              "      <td>-0.315019</td>\n",
              "      <td>1.274724</td>\n",
              "    </tr>\n",
              "    <tr>\n",
              "      <th>4</th>\n",
              "      <td>0.372375</td>\n",
              "      <td>-0.699500</td>\n",
              "      <td>-1.836298</td>\n",
              "      <td>-1.250580</td>\n",
              "      <td>-0.194446</td>\n",
              "      <td>-0.393983</td>\n",
              "      <td>-0.316859</td>\n",
              "      <td>-0.279103</td>\n",
              "      <td>-0.315019</td>\n",
              "      <td>-0.253690</td>\n",
              "    </tr>\n",
              "    <tr>\n",
              "      <th>...</th>\n",
              "      <td>...</td>\n",
              "      <td>...</td>\n",
              "      <td>...</td>\n",
              "      <td>...</td>\n",
              "      <td>...</td>\n",
              "      <td>...</td>\n",
              "      <td>...</td>\n",
              "      <td>...</td>\n",
              "      <td>...</td>\n",
              "      <td>...</td>\n",
              "    </tr>\n",
              "    <tr>\n",
              "      <th>865</th>\n",
              "      <td>1.529396</td>\n",
              "      <td>-0.699500</td>\n",
              "      <td>0.551713</td>\n",
              "      <td>1.755146</td>\n",
              "      <td>-0.194446</td>\n",
              "      <td>0.871716</td>\n",
              "      <td>-0.316859</td>\n",
              "      <td>0.073049</td>\n",
              "      <td>0.014522</td>\n",
              "      <td>-0.253690</td>\n",
              "    </tr>\n",
              "    <tr>\n",
              "      <th>866</th>\n",
              "      <td>-0.784647</td>\n",
              "      <td>1.184602</td>\n",
              "      <td>0.551713</td>\n",
              "      <td>2.028394</td>\n",
              "      <td>-0.194446</td>\n",
              "      <td>-0.393983</td>\n",
              "      <td>-0.316859</td>\n",
              "      <td>-0.279103</td>\n",
              "      <td>-0.315019</td>\n",
              "      <td>-0.253690</td>\n",
              "    </tr>\n",
              "    <tr>\n",
              "      <th>867</th>\n",
              "      <td>-0.784647</td>\n",
              "      <td>1.184602</td>\n",
              "      <td>-0.642293</td>\n",
              "      <td>-0.704084</td>\n",
              "      <td>-0.194446</td>\n",
              "      <td>-0.393983</td>\n",
              "      <td>-0.316859</td>\n",
              "      <td>-0.279103</td>\n",
              "      <td>-0.315019</td>\n",
              "      <td>-0.253690</td>\n",
              "    </tr>\n",
              "    <tr>\n",
              "      <th>868</th>\n",
              "      <td>-0.784647</td>\n",
              "      <td>-0.699500</td>\n",
              "      <td>0.551713</td>\n",
              "      <td>-0.704084</td>\n",
              "      <td>-0.194446</td>\n",
              "      <td>1.038353</td>\n",
              "      <td>-0.316859</td>\n",
              "      <td>-0.259285</td>\n",
              "      <td>-0.315019</td>\n",
              "      <td>-0.253690</td>\n",
              "    </tr>\n",
              "    <tr>\n",
              "      <th>869</th>\n",
              "      <td>-0.784647</td>\n",
              "      <td>-0.699500</td>\n",
              "      <td>0.551713</td>\n",
              "      <td>-0.567460</td>\n",
              "      <td>-0.194446</td>\n",
              "      <td>-0.393983</td>\n",
              "      <td>-0.316859</td>\n",
              "      <td>-0.279103</td>\n",
              "      <td>0.296240</td>\n",
              "      <td>-0.253690</td>\n",
              "    </tr>\n",
              "  </tbody>\n",
              "</table>\n",
              "<p>870 rows × 10 columns</p>\n",
              "</div>\n",
              "      <button class=\"colab-df-convert\" onclick=\"convertToInteractive('df-a1d38fc4-3ca7-4256-bb4f-733f5f7bf42e')\"\n",
              "              title=\"Convert this dataframe to an interactive table.\"\n",
              "              style=\"display:none;\">\n",
              "        \n",
              "  <svg xmlns=\"http://www.w3.org/2000/svg\" height=\"24px\"viewBox=\"0 0 24 24\"\n",
              "       width=\"24px\">\n",
              "    <path d=\"M0 0h24v24H0V0z\" fill=\"none\"/>\n",
              "    <path d=\"M18.56 5.44l.94 2.06.94-2.06 2.06-.94-2.06-.94-.94-2.06-.94 2.06-2.06.94zm-11 1L8.5 8.5l.94-2.06 2.06-.94-2.06-.94L8.5 2.5l-.94 2.06-2.06.94zm10 10l.94 2.06.94-2.06 2.06-.94-2.06-.94-.94-2.06-.94 2.06-2.06.94z\"/><path d=\"M17.41 7.96l-1.37-1.37c-.4-.4-.92-.59-1.43-.59-.52 0-1.04.2-1.43.59L10.3 9.45l-7.72 7.72c-.78.78-.78 2.05 0 2.83L4 21.41c.39.39.9.59 1.41.59.51 0 1.02-.2 1.41-.59l7.78-7.78 2.81-2.81c.8-.78.8-2.07 0-2.86zM5.41 20L4 18.59l7.72-7.72 1.47 1.35L5.41 20z\"/>\n",
              "  </svg>\n",
              "      </button>\n",
              "      \n",
              "  <style>\n",
              "    .colab-df-container {\n",
              "      display:flex;\n",
              "      flex-wrap:wrap;\n",
              "      gap: 12px;\n",
              "    }\n",
              "\n",
              "    .colab-df-convert {\n",
              "      background-color: #E8F0FE;\n",
              "      border: none;\n",
              "      border-radius: 50%;\n",
              "      cursor: pointer;\n",
              "      display: none;\n",
              "      fill: #1967D2;\n",
              "      height: 32px;\n",
              "      padding: 0 0 0 0;\n",
              "      width: 32px;\n",
              "    }\n",
              "\n",
              "    .colab-df-convert:hover {\n",
              "      background-color: #E2EBFA;\n",
              "      box-shadow: 0px 1px 2px rgba(60, 64, 67, 0.3), 0px 1px 3px 1px rgba(60, 64, 67, 0.15);\n",
              "      fill: #174EA6;\n",
              "    }\n",
              "\n",
              "    [theme=dark] .colab-df-convert {\n",
              "      background-color: #3B4455;\n",
              "      fill: #D2E3FC;\n",
              "    }\n",
              "\n",
              "    [theme=dark] .colab-df-convert:hover {\n",
              "      background-color: #434B5C;\n",
              "      box-shadow: 0px 1px 3px 1px rgba(0, 0, 0, 0.15);\n",
              "      filter: drop-shadow(0px 1px 2px rgba(0, 0, 0, 0.3));\n",
              "      fill: #FFFFFF;\n",
              "    }\n",
              "  </style>\n",
              "\n",
              "      <script>\n",
              "        const buttonEl =\n",
              "          document.querySelector('#df-a1d38fc4-3ca7-4256-bb4f-733f5f7bf42e button.colab-df-convert');\n",
              "        buttonEl.style.display =\n",
              "          google.colab.kernel.accessAllowed ? 'block' : 'none';\n",
              "\n",
              "        async function convertToInteractive(key) {\n",
              "          const element = document.querySelector('#df-a1d38fc4-3ca7-4256-bb4f-733f5f7bf42e');\n",
              "          const dataTable =\n",
              "            await google.colab.kernel.invokeFunction('convertToInteractive',\n",
              "                                                     [key], {});\n",
              "          if (!dataTable) return;\n",
              "\n",
              "          const docLinkHtml = 'Like what you see? Visit the ' +\n",
              "            '<a target=\"_blank\" href=https://colab.research.google.com/notebooks/data_table.ipynb>data table notebook</a>'\n",
              "            + ' to learn more about interactive tables.';\n",
              "          element.innerHTML = '';\n",
              "          dataTable['output_type'] = 'display_data';\n",
              "          await google.colab.output.renderOutput(dataTable, element);\n",
              "          const docLink = document.createElement('div');\n",
              "          docLink.innerHTML = docLinkHtml;\n",
              "          element.appendChild(docLink);\n",
              "        }\n",
              "      </script>\n",
              "    </div>\n",
              "  </div>\n",
              "  "
            ]
          },
          "metadata": {},
          "execution_count": 54
        }
      ]
    },
    {
      "cell_type": "markdown",
      "metadata": {
        "id": "FBvJE3IWi2QP"
      },
      "source": [
        "Generamos la salida"
      ]
    },
    {
      "cell_type": "code",
      "execution_count": null,
      "metadata": {
        "id": "Hn797KPUi2QQ"
      },
      "outputs": [],
      "source": [
        "test_id = PassengerId\n",
        "test_pred = clf.predict(test_df)\n"
      ]
    },
    {
      "cell_type": "code",
      "execution_count": null,
      "metadata": {
        "id": "pqbDtwE_i2QR"
      },
      "outputs": [],
      "source": [
        "submission = pd.DataFrame(list(zip(test_id, test_pred)), columns=[\"PassengerId\", \"Transported\"])\n",
        "submission.to_csv(\"sample_submission.csv\", header=True, index=False)"
      ]
    }
  ],
  "metadata": {
    "kernelspec": {
      "display_name": "Python 3.9.13 ('diplodatos')",
      "language": "python",
      "name": "python3"
    },
    "language_info": {
      "codemirror_mode": {
        "name": "ipython",
        "version": 3
      },
      "file_extension": ".py",
      "mimetype": "text/x-python",
      "name": "python",
      "nbconvert_exporter": "python",
      "pygments_lexer": "ipython3",
      "version": "3.9.13"
    },
    "orig_nbformat": 4,
    "vscode": {
      "interpreter": {
        "hash": "e6b65fc4380ac725e50a330b268a227bbdbe91bddfffbf68e5f7ce9848a2b8d5"
      }
    },
    "colab": {
      "name": "Garay_Kaggle_Competition.ipynb",
      "provenance": [],
      "include_colab_link": true
    }
  },
  "nbformat": 4,
  "nbformat_minor": 0
}